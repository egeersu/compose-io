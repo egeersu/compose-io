{
 "cells": [
  {
   "cell_type": "code",
   "execution_count": 206,
   "metadata": {},
   "outputs": [],
   "source": [
    "import pandas as pd"
   ]
  },
  {
   "cell_type": "code",
   "execution_count": 207,
   "metadata": {},
   "outputs": [],
   "source": [
    "winners_df = pd.read_excel('winners.xlsx')\n",
    "winner_ids = list(winners_df['Winners'])"
   ]
  },
  {
   "cell_type": "code",
   "execution_count": 208,
   "metadata": {},
   "outputs": [],
   "source": [
    "df = pd.read_excel('crafting.xlsx')\n",
    "df = df.dropna() # drop no inputs\n",
    "df = df[df.ID.isin(winner_ids)] # drop incomplete runs"
   ]
  },
  {
   "cell_type": "code",
   "execution_count": 209,
   "metadata": {},
   "outputs": [],
   "source": [
    "# drop attempts like food3,food3,food3 where sum exceeds possible levels\n",
    "# drop attempts like food1, weapon2 where item types do not match\n",
    "\n",
    "good_inputs = ['food1,food1',\n",
    "              'food1,food1,food1',\n",
    "              'food1,food2',\n",
    "              'food2,food1',\n",
    "              'food2,food2',\n",
    "              'food1,food3',\n",
    "              'food3,food1',\n",
    "              'food1,food2,food1',\n",
    "              'food2,food1,food1',\n",
    "              'food1,food1,food2',\n",
    "              'weapon1,weapon1',\n",
    "              'weapon1,weapon2',\n",
    "              'weapon2,weapon1',\n",
    "              'weapon2,weapon2',\n",
    "              'weapon1,weapon3',\n",
    "              'weapon3,weapon1',\n",
    "              'weapon1,weapon1,weapon1',\n",
    "              'weapon1,weapon2,weapon1',\n",
    "              'weapon2,weapon1,weapon1',\n",
    "              'weapon1,weapon1,weapon2']\n",
    "\n",
    "strict_inputs = ['food1,food1',\n",
    "              'food1,food1,food1',\n",
    "              'food2,food2',\n",
    "              'weapon1,weapon1',\n",
    "              'weapon2,weapon2',\n",
    "              'weapon1,weapon1,weapon1']\n",
    "\n",
    "flexible_inputs = ['food1,food2',\n",
    "              'food2,food1',\n",
    "              'food1,food3',\n",
    "              'food3,food1',\n",
    "              'food1,food2,food1',\n",
    "              'food2,food1,food1',\n",
    "              'food1,food1,food2',\n",
    "              'weapon1,weapon2',\n",
    "              'weapon2,weapon1',\n",
    "              'weapon1,weapon3',\n",
    "              'weapon3,weapon1',\n",
    "              'weapon1,weapon2,weapon1',\n",
    "              'weapon2,weapon1,weapon1',\n",
    "              'weapon1,weapon1,weapon2']\n",
    "\n",
    "\n",
    "df = df[df.Inputs.isin(good_inputs)] "
   ]
  },
  {
   "cell_type": "code",
   "execution_count": 231,
   "metadata": {},
   "outputs": [
    {
     "data": {
      "text/html": [
       "<div>\n",
       "<style scoped>\n",
       "    .dataframe tbody tr th:only-of-type {\n",
       "        vertical-align: middle;\n",
       "    }\n",
       "\n",
       "    .dataframe tbody tr th {\n",
       "        vertical-align: top;\n",
       "    }\n",
       "\n",
       "    .dataframe thead th {\n",
       "        text-align: right;\n",
       "    }\n",
       "</style>\n",
       "<table border=\"1\" class=\"dataframe\">\n",
       "  <thead>\n",
       "    <tr style=\"text-align: right;\">\n",
       "      <th></th>\n",
       "      <th>ID</th>\n",
       "      <th>Time</th>\n",
       "      <th>Group</th>\n",
       "      <th>Day</th>\n",
       "      <th>Inputs</th>\n",
       "      <th>Success</th>\n",
       "    </tr>\n",
       "  </thead>\n",
       "  <tbody>\n",
       "    <tr>\n",
       "      <th>114</th>\n",
       "      <td>404989.0</td>\n",
       "      <td>3/8/2021 @ 10:51</td>\n",
       "      <td>1.0</td>\n",
       "      <td>1.0</td>\n",
       "      <td>food1,food1,food1</td>\n",
       "      <td>1.0</td>\n",
       "    </tr>\n",
       "    <tr>\n",
       "      <th>115</th>\n",
       "      <td>404989.0</td>\n",
       "      <td>3/8/2021 @ 10:51</td>\n",
       "      <td>1.0</td>\n",
       "      <td>1.0</td>\n",
       "      <td>food1,food1,food1</td>\n",
       "      <td>1.0</td>\n",
       "    </tr>\n",
       "    <tr>\n",
       "      <th>116</th>\n",
       "      <td>404989.0</td>\n",
       "      <td>3/8/2021 @ 10:51</td>\n",
       "      <td>1.0</td>\n",
       "      <td>1.0</td>\n",
       "      <td>food1,food1</td>\n",
       "      <td>1.0</td>\n",
       "    </tr>\n",
       "    <tr>\n",
       "      <th>117</th>\n",
       "      <td>404989.0</td>\n",
       "      <td>3/8/2021 @ 10:51</td>\n",
       "      <td>1.0</td>\n",
       "      <td>1.0</td>\n",
       "      <td>food1,food1</td>\n",
       "      <td>1.0</td>\n",
       "    </tr>\n",
       "    <tr>\n",
       "      <th>123</th>\n",
       "      <td>404989.0</td>\n",
       "      <td>3/8/2021 @ 10:53</td>\n",
       "      <td>1.0</td>\n",
       "      <td>2.0</td>\n",
       "      <td>food1,food1,food1</td>\n",
       "      <td>1.0</td>\n",
       "    </tr>\n",
       "    <tr>\n",
       "      <th>124</th>\n",
       "      <td>404989.0</td>\n",
       "      <td>3/8/2021 @ 10:53</td>\n",
       "      <td>1.0</td>\n",
       "      <td>2.0</td>\n",
       "      <td>food1,food1,food1</td>\n",
       "      <td>1.0</td>\n",
       "    </tr>\n",
       "    <tr>\n",
       "      <th>125</th>\n",
       "      <td>404989.0</td>\n",
       "      <td>3/8/2021 @ 10:53</td>\n",
       "      <td>1.0</td>\n",
       "      <td>2.0</td>\n",
       "      <td>food1,food1,food1</td>\n",
       "      <td>1.0</td>\n",
       "    </tr>\n",
       "    <tr>\n",
       "      <th>126</th>\n",
       "      <td>404989.0</td>\n",
       "      <td>3/8/2021 @ 10:53</td>\n",
       "      <td>1.0</td>\n",
       "      <td>2.0</td>\n",
       "      <td>food1,food1,food1</td>\n",
       "      <td>1.0</td>\n",
       "    </tr>\n",
       "    <tr>\n",
       "      <th>127</th>\n",
       "      <td>404989.0</td>\n",
       "      <td>3/8/2021 @ 10:53</td>\n",
       "      <td>1.0</td>\n",
       "      <td>2.0</td>\n",
       "      <td>food1,food1,food1</td>\n",
       "      <td>1.0</td>\n",
       "    </tr>\n",
       "    <tr>\n",
       "      <th>128</th>\n",
       "      <td>404989.0</td>\n",
       "      <td>3/8/2021 @ 10:53</td>\n",
       "      <td>1.0</td>\n",
       "      <td>2.0</td>\n",
       "      <td>food1,food1,food1</td>\n",
       "      <td>1.0</td>\n",
       "    </tr>\n",
       "    <tr>\n",
       "      <th>129</th>\n",
       "      <td>404989.0</td>\n",
       "      <td>3/8/2021 @ 10:53</td>\n",
       "      <td>1.0</td>\n",
       "      <td>2.0</td>\n",
       "      <td>food1,food1,food1</td>\n",
       "      <td>1.0</td>\n",
       "    </tr>\n",
       "    <tr>\n",
       "      <th>130</th>\n",
       "      <td>404989.0</td>\n",
       "      <td>3/8/2021 @ 10:53</td>\n",
       "      <td>1.0</td>\n",
       "      <td>2.0</td>\n",
       "      <td>food1,food1,food1</td>\n",
       "      <td>1.0</td>\n",
       "    </tr>\n",
       "    <tr>\n",
       "      <th>131</th>\n",
       "      <td>404989.0</td>\n",
       "      <td>3/8/2021 @ 10:54</td>\n",
       "      <td>1.0</td>\n",
       "      <td>2.0</td>\n",
       "      <td>food1,food1,food1</td>\n",
       "      <td>1.0</td>\n",
       "    </tr>\n",
       "    <tr>\n",
       "      <th>137</th>\n",
       "      <td>404989.0</td>\n",
       "      <td>3/8/2021 @ 10:55</td>\n",
       "      <td>1.0</td>\n",
       "      <td>3.0</td>\n",
       "      <td>weapon1,weapon1,weapon1</td>\n",
       "      <td>1.0</td>\n",
       "    </tr>\n",
       "    <tr>\n",
       "      <th>138</th>\n",
       "      <td>404989.0</td>\n",
       "      <td>3/8/2021 @ 10:55</td>\n",
       "      <td>1.0</td>\n",
       "      <td>3.0</td>\n",
       "      <td>weapon1,weapon1,weapon1</td>\n",
       "      <td>1.0</td>\n",
       "    </tr>\n",
       "    <tr>\n",
       "      <th>139</th>\n",
       "      <td>404989.0</td>\n",
       "      <td>3/8/2021 @ 10:55</td>\n",
       "      <td>1.0</td>\n",
       "      <td>3.0</td>\n",
       "      <td>weapon1,weapon1,weapon1</td>\n",
       "      <td>1.0</td>\n",
       "    </tr>\n",
       "    <tr>\n",
       "      <th>140</th>\n",
       "      <td>404989.0</td>\n",
       "      <td>3/8/2021 @ 10:55</td>\n",
       "      <td>1.0</td>\n",
       "      <td>3.0</td>\n",
       "      <td>weapon1,weapon1,weapon1</td>\n",
       "      <td>1.0</td>\n",
       "    </tr>\n",
       "    <tr>\n",
       "      <th>141</th>\n",
       "      <td>404989.0</td>\n",
       "      <td>3/8/2021 @ 10:55</td>\n",
       "      <td>1.0</td>\n",
       "      <td>3.0</td>\n",
       "      <td>weapon1,weapon1,weapon1</td>\n",
       "      <td>1.0</td>\n",
       "    </tr>\n",
       "    <tr>\n",
       "      <th>142</th>\n",
       "      <td>404989.0</td>\n",
       "      <td>3/8/2021 @ 10:56</td>\n",
       "      <td>1.0</td>\n",
       "      <td>3.0</td>\n",
       "      <td>weapon1,weapon1,weapon1</td>\n",
       "      <td>1.0</td>\n",
       "    </tr>\n",
       "    <tr>\n",
       "      <th>143</th>\n",
       "      <td>404989.0</td>\n",
       "      <td>3/8/2021 @ 10:56</td>\n",
       "      <td>1.0</td>\n",
       "      <td>3.0</td>\n",
       "      <td>weapon1,weapon1,weapon1</td>\n",
       "      <td>1.0</td>\n",
       "    </tr>\n",
       "    <tr>\n",
       "      <th>144</th>\n",
       "      <td>404989.0</td>\n",
       "      <td>3/8/2021 @ 10:56</td>\n",
       "      <td>1.0</td>\n",
       "      <td>3.0</td>\n",
       "      <td>weapon1,weapon1,weapon1</td>\n",
       "      <td>1.0</td>\n",
       "    </tr>\n",
       "    <tr>\n",
       "      <th>145</th>\n",
       "      <td>404989.0</td>\n",
       "      <td>3/8/2021 @ 10:56</td>\n",
       "      <td>1.0</td>\n",
       "      <td>3.0</td>\n",
       "      <td>weapon1,weapon1,weapon1</td>\n",
       "      <td>1.0</td>\n",
       "    </tr>\n",
       "    <tr>\n",
       "      <th>146</th>\n",
       "      <td>404989.0</td>\n",
       "      <td>3/8/2021 @ 10:56</td>\n",
       "      <td>1.0</td>\n",
       "      <td>3.0</td>\n",
       "      <td>weapon1,weapon1,weapon1</td>\n",
       "      <td>1.0</td>\n",
       "    </tr>\n",
       "    <tr>\n",
       "      <th>147</th>\n",
       "      <td>404989.0</td>\n",
       "      <td>3/8/2021 @ 10:56</td>\n",
       "      <td>1.0</td>\n",
       "      <td>3.0</td>\n",
       "      <td>weapon1,weapon1,weapon1</td>\n",
       "      <td>1.0</td>\n",
       "    </tr>\n",
       "    <tr>\n",
       "      <th>148</th>\n",
       "      <td>404989.0</td>\n",
       "      <td>3/8/2021 @ 10:56</td>\n",
       "      <td>1.0</td>\n",
       "      <td>3.0</td>\n",
       "      <td>weapon1,weapon1,weapon1</td>\n",
       "      <td>1.0</td>\n",
       "    </tr>\n",
       "  </tbody>\n",
       "</table>\n",
       "</div>"
      ],
      "text/plain": [
       "           ID              Time  Group  Day                   Inputs  Success\n",
       "114  404989.0  3/8/2021 @ 10:51    1.0  1.0        food1,food1,food1      1.0\n",
       "115  404989.0  3/8/2021 @ 10:51    1.0  1.0        food1,food1,food1      1.0\n",
       "116  404989.0  3/8/2021 @ 10:51    1.0  1.0              food1,food1      1.0\n",
       "117  404989.0  3/8/2021 @ 10:51    1.0  1.0              food1,food1      1.0\n",
       "123  404989.0  3/8/2021 @ 10:53    1.0  2.0        food1,food1,food1      1.0\n",
       "124  404989.0  3/8/2021 @ 10:53    1.0  2.0        food1,food1,food1      1.0\n",
       "125  404989.0  3/8/2021 @ 10:53    1.0  2.0        food1,food1,food1      1.0\n",
       "126  404989.0  3/8/2021 @ 10:53    1.0  2.0        food1,food1,food1      1.0\n",
       "127  404989.0  3/8/2021 @ 10:53    1.0  2.0        food1,food1,food1      1.0\n",
       "128  404989.0  3/8/2021 @ 10:53    1.0  2.0        food1,food1,food1      1.0\n",
       "129  404989.0  3/8/2021 @ 10:53    1.0  2.0        food1,food1,food1      1.0\n",
       "130  404989.0  3/8/2021 @ 10:53    1.0  2.0        food1,food1,food1      1.0\n",
       "131  404989.0  3/8/2021 @ 10:54    1.0  2.0        food1,food1,food1      1.0\n",
       "137  404989.0  3/8/2021 @ 10:55    1.0  3.0  weapon1,weapon1,weapon1      1.0\n",
       "138  404989.0  3/8/2021 @ 10:55    1.0  3.0  weapon1,weapon1,weapon1      1.0\n",
       "139  404989.0  3/8/2021 @ 10:55    1.0  3.0  weapon1,weapon1,weapon1      1.0\n",
       "140  404989.0  3/8/2021 @ 10:55    1.0  3.0  weapon1,weapon1,weapon1      1.0\n",
       "141  404989.0  3/8/2021 @ 10:55    1.0  3.0  weapon1,weapon1,weapon1      1.0\n",
       "142  404989.0  3/8/2021 @ 10:56    1.0  3.0  weapon1,weapon1,weapon1      1.0\n",
       "143  404989.0  3/8/2021 @ 10:56    1.0  3.0  weapon1,weapon1,weapon1      1.0\n",
       "144  404989.0  3/8/2021 @ 10:56    1.0  3.0  weapon1,weapon1,weapon1      1.0\n",
       "145  404989.0  3/8/2021 @ 10:56    1.0  3.0  weapon1,weapon1,weapon1      1.0\n",
       "146  404989.0  3/8/2021 @ 10:56    1.0  3.0  weapon1,weapon1,weapon1      1.0\n",
       "147  404989.0  3/8/2021 @ 10:56    1.0  3.0  weapon1,weapon1,weapon1      1.0\n",
       "148  404989.0  3/8/2021 @ 10:56    1.0  3.0  weapon1,weapon1,weapon1      1.0"
      ]
     },
     "execution_count": 231,
     "metadata": {},
     "output_type": "execute_result"
    }
   ],
   "source": [
    "df[df.ID==404989]"
   ]
  },
  {
   "cell_type": "code",
   "execution_count": 216,
   "metadata": {},
   "outputs": [
    {
     "name": "stdout",
     "output_type": "stream",
     "text": [
      "Total Crafting Attempts:  1016\n"
     ]
    }
   ],
   "source": [
    "num_attempts = df.shape[0]\n",
    "print('Total Crafting Attempts: ', num_attempts)"
   ]
  },
  {
   "cell_type": "markdown",
   "metadata": {},
   "source": [
    "### Success"
   ]
  },
  {
   "cell_type": "markdown",
   "metadata": {},
   "source": [
    "* Group1:  flexible -> strict\n",
    "* Group2: strict -> flexible"
   ]
  },
  {
   "cell_type": "code",
   "execution_count": 211,
   "metadata": {},
   "outputs": [
    {
     "data": {
      "text/plain": [
       "(0.9621513944223108, 0.9708171206225681)"
      ]
     },
     "execution_count": 211,
     "metadata": {},
     "output_type": "execute_result"
    }
   ],
   "source": [
    "group1 = df[df['Group']==1]\n",
    "group2 = df[df['Group']==2]\n",
    "\n",
    "group1['Success'].mean(), group2['Success'].mean()"
   ]
  },
  {
   "cell_type": "code",
   "execution_count": 212,
   "metadata": {},
   "outputs": [
    {
     "name": "stdout",
     "output_type": "stream",
     "text": [
      "Group 1 Train Accuracy:  1.0\n",
      "Group 1 Test Accuracy:  0.931899641577061\n"
     ]
    }
   ],
   "source": [
    "group1_train = group1[(group1['Day'] == 1) | (group1['Day'] == 2)]\n",
    "group1_test = group1[group1['Day'] == 3]\n",
    "\n",
    "print('Group 1 Train Accuracy: ', group1_train['Success'].mean())\n",
    "print('Group 1 Test Accuracy: ', group1_test['Success'].mean())"
   ]
  },
  {
   "cell_type": "code",
   "execution_count": 213,
   "metadata": {},
   "outputs": [
    {
     "name": "stdout",
     "output_type": "stream",
     "text": [
      "Group 2 Train Accuracy:  0.9313725490196079\n",
      "Group 2 Test Accuracy:  0.9967741935483871\n"
     ]
    }
   ],
   "source": [
    "group2_train = group2[(group2['Day'] == 1) | (group2['Day'] == 2)]\n",
    "group2_test = group2[group2['Day'] == 3]\n",
    "\n",
    "print('Group 2 Train Accuracy: ', group2_train['Success'].mean()) \n",
    "print('Group 2 Test Accuracy: ', group2_test['Success'].mean())"
   ]
  },
  {
   "cell_type": "markdown",
   "metadata": {},
   "source": [
    "### Conservativeness\n",
    "* #Strict Attempts / #Total Attempts"
   ]
  },
  {
   "cell_type": "code",
   "execution_count": 214,
   "metadata": {},
   "outputs": [
    {
     "name": "stdout",
     "output_type": "stream",
     "text": [
      "Group 1 Train Total Attempts:  223\n",
      "Group 1 Train Flexible Attempts:  22\n",
      "Group 1 Train Strict Attempts:  201\n",
      "Conservativeness:  0.9013452914798207\n"
     ]
    }
   ],
   "source": [
    "group1_train_flexible = group1_train[group1_train['Inputs'].isin(flexible_inputs)]\n",
    "group1_train_strict = group1_train[group1_train['Inputs'].isin(strict_inputs)]\n",
    "\n",
    "\n",
    "group1_train_total = group1_train.shape[0]\n",
    "group1_train_flexible = group1_train_flexible.shape[0]\n",
    "group1_train_strict = group1_train_strict.shape[0]\n",
    "\n",
    "print('Group 1 Train Total Attempts: ', group1_train_total)\n",
    "print('Group 1 Train Flexible Attempts: ', group1_train_flexible)\n",
    "print('Group 1 Train Strict Attempts: ', group1_train_strict)\n",
    "print('Conservativeness: ', group1_train_strict/group1_train_total)"
   ]
  },
  {
   "cell_type": "code",
   "execution_count": 215,
   "metadata": {},
   "outputs": [
    {
     "name": "stdout",
     "output_type": "stream",
     "text": [
      "Group 2 Test Total Attempts:  310\n",
      "Group 2 Test Flexible Attempts:  7\n",
      "Group 2 Test Strict Attempts:  303\n",
      "Conservativeness:  0.9774193548387097\n"
     ]
    }
   ],
   "source": [
    "group2_test_flexible = group2_test[group2_test['Inputs'].isin(flexible_inputs)]\n",
    "group2_test_strict = group2_test[group2_test['Inputs'].isin(strict_inputs)]\n",
    "\n",
    "group2_test.shape[0], group2_test_flexible.shape[0], group2_test_strict.shape[0]\n",
    "\n",
    "group2_test_total = group2_test.shape[0]\n",
    "group2_test_flexible = group2_test_flexible.shape[0]\n",
    "group2_test_strict = group2_test_strict.shape[0]\n",
    "\n",
    "print('Group 2 Test Total Attempts: ', group2_test_total)\n",
    "print('Group 2 Test Flexible Attempts: ', group2_test_flexible)\n",
    "print('Group 2 Test Strict Attempts: ', group2_test_strict)\n",
    "print('Conservativeness: ', group2_test_strict/group2_test_total)"
   ]
  }
 ],
 "metadata": {
  "kernelspec": {
   "display_name": "Python 3",
   "language": "python",
   "name": "python3"
  },
  "language_info": {
   "codemirror_mode": {
    "name": "ipython",
    "version": 3
   },
   "file_extension": ".py",
   "mimetype": "text/x-python",
   "name": "python",
   "nbconvert_exporter": "python",
   "pygments_lexer": "ipython3",
   "version": "3.8.5"
  }
 },
 "nbformat": 4,
 "nbformat_minor": 4
}
