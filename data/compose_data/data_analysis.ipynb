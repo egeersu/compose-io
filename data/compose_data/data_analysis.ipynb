{
 "cells": [
  {
   "cell_type": "code",
   "execution_count": 1,
   "metadata": {},
   "outputs": [],
   "source": [
    "import pandas as pd\n",
    "import seaborn as sns\n",
    "import numpy as np\n",
    "import matplotlib.pyplot as plt\n",
    "import matplotlib.ticker as mticker\n",
    "import scipy.stats as stats\n",
    "%matplotlib inline"
   ]
  },
  {
   "cell_type": "code",
   "execution_count": 2,
   "metadata": {},
   "outputs": [
    {
     "data": {
      "text/plain": [
       "(259, 44)"
      ]
     },
     "execution_count": 2,
     "metadata": {},
     "output_type": "execute_result"
    }
   ],
   "source": [
    "winners_df = pd.read_excel('winners.xlsx')\n",
    "winner_ids = list(winners_df['Winners'])\n",
    "num_winners = len(winner_ids)\n",
    "\n",
    "df = pd.read_excel('crafting.xlsx')\n",
    "unique_participants = df['ID'].unique()\n",
    "num_participants = unique_participants.shape[0]\n",
    "\n",
    "num_participants, num_winners"
   ]
  },
  {
   "cell_type": "code",
   "execution_count": 3,
   "metadata": {},
   "outputs": [
    {
     "data": {
      "text/plain": [
       "201"
      ]
     },
     "execution_count": 3,
     "metadata": {},
     "output_type": "execute_result"
    }
   ],
   "source": [
    "#nan_participants \n",
    "df = df.dropna()\n",
    "unique_participants = df['ID'].unique()\n",
    "num_participants = unique_participants.shape[0]\n",
    "num_participants"
   ]
  },
  {
   "cell_type": "code",
   "execution_count": 4,
   "metadata": {},
   "outputs": [
    {
     "data": {
      "text/plain": [
       "(179, 72, 55)"
      ]
     },
     "execution_count": 4,
     "metadata": {},
     "output_type": "execute_result"
    }
   ],
   "source": [
    "day1_crafters = df[df['Day'] == 1]['ID'].unique().shape[0]\n",
    "day2_crafters = df[df['Day'] == 2]['ID'].unique().shape[0]\n",
    "day3_crafters = df[df['Day'] == 3]['ID'].unique().shape[0]\n",
    "\n",
    "day1_crafters, day2_crafters, day3_crafters"
   ]
  },
  {
   "cell_type": "code",
   "execution_count": 5,
   "metadata": {},
   "outputs": [
    {
     "data": {
      "text/plain": [
       "(44, 13)"
      ]
     },
     "execution_count": 5,
     "metadata": {},
     "output_type": "execute_result"
    }
   ],
   "source": [
    "# Let's find the losers 11/55\n",
    "losers = set(df[df['Day'] == 3]['ID'].unique()) - set(winner_ids)\n",
    "losers_df = df[df['ID'].isin(losers)]\n",
    "winners_df = df[df['ID'].isin(winner_ids)]\n",
    "\n",
    "num_winners = len(winner_ids)\n",
    "num_losers = len(losers)\n",
    "\n",
    "num_winners, num_losers"
   ]
  },
  {
   "cell_type": "code",
   "execution_count": 6,
   "metadata": {},
   "outputs": [
    {
     "data": {
      "text/plain": [
       "57"
      ]
     },
     "execution_count": 6,
     "metadata": {},
     "output_type": "execute_result"
    }
   ],
   "source": [
    "completed_ids = list(losers) + winner_ids\n",
    "len(completed_ids)"
   ]
  },
  {
   "cell_type": "code",
   "execution_count": 7,
   "metadata": {},
   "outputs": [],
   "source": [
    "level4_weapons = ['weapon2,weapon2', 'weapon3,weapon1', 'weapon1,weapon3']\n",
    "level4_foods = ['food3,food1', 'food1,food3', 'food2,food2']"
   ]
  },
  {
   "cell_type": "code",
   "execution_count": 8,
   "metadata": {},
   "outputs": [],
   "source": [
    "single_primitives = df[df['Inputs'].isin(['food1','food2','food3','food4','weapon1','weapon2','weapon3','weapon4'])]"
   ]
  },
  {
   "cell_type": "code",
   "execution_count": 9,
   "metadata": {},
   "outputs": [
    {
     "data": {
      "text/plain": [
       "(658, 6)"
      ]
     },
     "execution_count": 9,
     "metadata": {},
     "output_type": "execute_result"
    }
   ],
   "source": [
    "df[df['Inputs'] == 'food1,food1,food1'].shape"
   ]
  },
  {
   "cell_type": "code",
   "execution_count": 10,
   "metadata": {},
   "outputs": [
    {
     "data": {
      "text/html": [
       "<div>\n",
       "<style scoped>\n",
       "    .dataframe tbody tr th:only-of-type {\n",
       "        vertical-align: middle;\n",
       "    }\n",
       "\n",
       "    .dataframe tbody tr th {\n",
       "        vertical-align: top;\n",
       "    }\n",
       "\n",
       "    .dataframe thead th {\n",
       "        text-align: right;\n",
       "    }\n",
       "</style>\n",
       "<table border=\"1\" class=\"dataframe\">\n",
       "  <thead>\n",
       "    <tr style=\"text-align: right;\">\n",
       "      <th></th>\n",
       "      <th>Group</th>\n",
       "      <th>Attempts</th>\n",
       "      <th>Day1 Attempts</th>\n",
       "      <th>Day2 Attempts</th>\n",
       "      <th>Day3 Attempts</th>\n",
       "      <th>Weapon4 Crafted</th>\n",
       "      <th>Food4 Crafted</th>\n",
       "      <th>Win</th>\n",
       "    </tr>\n",
       "  </thead>\n",
       "  <tbody>\n",
       "    <tr>\n",
       "      <th>Group</th>\n",
       "      <td>1.000000</td>\n",
       "      <td>0.167356</td>\n",
       "      <td>0.135567</td>\n",
       "      <td>0.024673</td>\n",
       "      <td>0.158063</td>\n",
       "      <td>0.134909</td>\n",
       "      <td>-0.085217</td>\n",
       "      <td>0.032281</td>\n",
       "    </tr>\n",
       "    <tr>\n",
       "      <th>Attempts</th>\n",
       "      <td>0.167356</td>\n",
       "      <td>1.000000</td>\n",
       "      <td>0.534191</td>\n",
       "      <td>0.541275</td>\n",
       "      <td>0.854450</td>\n",
       "      <td>0.639330</td>\n",
       "      <td>0.467692</td>\n",
       "      <td>0.371634</td>\n",
       "    </tr>\n",
       "    <tr>\n",
       "      <th>Day1 Attempts</th>\n",
       "      <td>0.135567</td>\n",
       "      <td>0.534191</td>\n",
       "      <td>1.000000</td>\n",
       "      <td>0.116994</td>\n",
       "      <td>0.228202</td>\n",
       "      <td>0.262221</td>\n",
       "      <td>0.357887</td>\n",
       "      <td>0.250295</td>\n",
       "    </tr>\n",
       "    <tr>\n",
       "      <th>Day2 Attempts</th>\n",
       "      <td>0.024673</td>\n",
       "      <td>0.541275</td>\n",
       "      <td>0.116994</td>\n",
       "      <td>1.000000</td>\n",
       "      <td>0.155356</td>\n",
       "      <td>0.078000</td>\n",
       "      <td>0.510514</td>\n",
       "      <td>0.202375</td>\n",
       "    </tr>\n",
       "    <tr>\n",
       "      <th>Day3 Attempts</th>\n",
       "      <td>0.158063</td>\n",
       "      <td>0.854450</td>\n",
       "      <td>0.228202</td>\n",
       "      <td>0.155356</td>\n",
       "      <td>1.000000</td>\n",
       "      <td>0.727840</td>\n",
       "      <td>0.210922</td>\n",
       "      <td>0.293559</td>\n",
       "    </tr>\n",
       "    <tr>\n",
       "      <th>Weapon4 Crafted</th>\n",
       "      <td>0.134909</td>\n",
       "      <td>0.639330</td>\n",
       "      <td>0.262221</td>\n",
       "      <td>0.078000</td>\n",
       "      <td>0.727840</td>\n",
       "      <td>1.000000</td>\n",
       "      <td>0.295073</td>\n",
       "      <td>0.168908</td>\n",
       "    </tr>\n",
       "    <tr>\n",
       "      <th>Food4 Crafted</th>\n",
       "      <td>-0.085217</td>\n",
       "      <td>0.467692</td>\n",
       "      <td>0.357887</td>\n",
       "      <td>0.510514</td>\n",
       "      <td>0.210922</td>\n",
       "      <td>0.295073</td>\n",
       "      <td>1.000000</td>\n",
       "      <td>0.118191</td>\n",
       "    </tr>\n",
       "    <tr>\n",
       "      <th>Win</th>\n",
       "      <td>0.032281</td>\n",
       "      <td>0.371634</td>\n",
       "      <td>0.250295</td>\n",
       "      <td>0.202375</td>\n",
       "      <td>0.293559</td>\n",
       "      <td>0.168908</td>\n",
       "      <td>0.118191</td>\n",
       "      <td>1.000000</td>\n",
       "    </tr>\n",
       "  </tbody>\n",
       "</table>\n",
       "</div>"
      ],
      "text/plain": [
       "                    Group  Attempts  Day1 Attempts  Day2 Attempts  \\\n",
       "Group            1.000000  0.167356       0.135567       0.024673   \n",
       "Attempts         0.167356  1.000000       0.534191       0.541275   \n",
       "Day1 Attempts    0.135567  0.534191       1.000000       0.116994   \n",
       "Day2 Attempts    0.024673  0.541275       0.116994       1.000000   \n",
       "Day3 Attempts    0.158063  0.854450       0.228202       0.155356   \n",
       "Weapon4 Crafted  0.134909  0.639330       0.262221       0.078000   \n",
       "Food4 Crafted   -0.085217  0.467692       0.357887       0.510514   \n",
       "Win              0.032281  0.371634       0.250295       0.202375   \n",
       "\n",
       "                 Day3 Attempts  Weapon4 Crafted  Food4 Crafted       Win  \n",
       "Group                 0.158063         0.134909      -0.085217  0.032281  \n",
       "Attempts              0.854450         0.639330       0.467692  0.371634  \n",
       "Day1 Attempts         0.228202         0.262221       0.357887  0.250295  \n",
       "Day2 Attempts         0.155356         0.078000       0.510514  0.202375  \n",
       "Day3 Attempts         1.000000         0.727840       0.210922  0.293559  \n",
       "Weapon4 Crafted       0.727840         1.000000       0.295073  0.168908  \n",
       "Food4 Crafted         0.210922         0.295073       1.000000  0.118191  \n",
       "Win                   0.293559         0.168908       0.118191  1.000000  "
      ]
     },
     "execution_count": 10,
     "metadata": {},
     "output_type": "execute_result"
    }
   ],
   "source": [
    "rows_list = []\n",
    "\n",
    "for user_id in completed_ids:\n",
    "    user_data = df[df['ID'] == user_id]\n",
    "    \n",
    "    # First attempt\n",
    "    first_attempt = user_data.iloc[0,4]\n",
    "    \n",
    "    # Second attempt\n",
    "    second_attempt = user_data.iloc[1,4]\n",
    "    \n",
    "    # Group\n",
    "    user_group = user_data['Group'].unique()[0]\n",
    "    \n",
    "    # Total Attempts\n",
    "    user_total_attempts = user_data.shape[0]\n",
    "    \n",
    "    # Day 1 Attempts \n",
    "    user_attempts1 = user_data[user_data['Day']==1].shape[0]\n",
    "\n",
    "    # Day 2 Attempts\n",
    "    user_attempts2 = user_data[user_data['Day']==2].shape[0]\n",
    "\n",
    "    # Day 3 Attempts\n",
    "    user_attempts3 = user_data[user_data['Day']==3].shape[0]\n",
    "\n",
    "    # Weapon 4 Crafted\n",
    "    num_weapon4 = user_data[user_data['Inputs'].isin(level4_weapons)].shape[0]\n",
    "    \n",
    "    # Food 4 Crafted\n",
    "    num_food4 = user_data[user_data['Inputs'].isin(level4_foods)].shape[0]\n",
    "        \n",
    "    # Winner or Loser\n",
    "    if user_id in winner_ids:\n",
    "        winner = 1\n",
    "    else:\n",
    "        winner = 0\n",
    "\n",
    "    user_dict = {'ID': user_id, 'Group':user_group, 'Attempts':user_total_attempts, \n",
    "                 'Day1 Attempts': user_attempts1, 'Day2 Attempts': user_attempts2,\n",
    "                 'Day3 Attempts': user_attempts3, 'Win':winner,\n",
    "                 'Weapon4 Crafted':num_weapon4, 'Food4 Crafted':num_food4,\n",
    "                 'First Attempt':first_attempt, 'Second Attempt':second_attempt}\n",
    "\n",
    "    rows_list.append(user_dict)\n",
    "    \n",
    "    \n",
    "users_df = pd.DataFrame(rows_list)\n",
    "## Graph correlation !!!\n",
    "\n",
    "first_attempts = users_df['First Attempt'].value_counts()\n",
    "second_attempts = users_df['Second Attempt'].value_counts()\n",
    "\n",
    "features=['Group', 'Attempts', 'Day1 Attempts', 'Day2 Attempts', 'Day3 Attempts', 'Weapon4 Crafted', 'Food4 Crafted', 'Win']\n",
    "users_df[features].corr()"
   ]
  },
  {
   "cell_type": "code",
   "execution_count": 32,
   "metadata": {},
   "outputs": [
    {
     "data": {
      "image/png": "[encoded data removed]",
      "text/plain": [
       "<Figure size 792x648 with 2 Axes>"
      ]
     },
     "metadata": {},
     "output_type": "display_data"
    }
   ],
   "source": [
    "sns.set_theme(style=\"white\")\n",
    "features=['Group', 'Attempts', 'Day1 Attempts', 'Day2 Attempts', 'Day3 Attempts', 'Weapon4 Crafted', 'Food4 Crafted', 'Win']\n",
    "corr = users_df[features].corr()\n",
    "mask = np.triu(np.ones_like(corr, dtype=bool))\n",
    "f, ax = plt.subplots(figsize=(11, 9))\n",
    "cmap = sns.diverging_palette(230, 20, as_cmap=True)\n",
    "sns.heatmap(corr, mask=mask, cmap=cmap, vmax=1, center=0,\n",
    "            square=True, linewidths=.5, cbar_kws={\"shrink\": .5})\n",
    "\n",
    "plt.savefig('cor_heatmap', bbox_inches='tight')"
   ]
  },
  {
   "cell_type": "code",
   "execution_count": 51,
   "metadata": {},
   "outputs": [
    {
     "data": {
      "text/plain": [
       "Ttest_1sampResult(statistic=-4.269842878255011, pvalue=0.0010883891808608204)"
      ]
     },
     "execution_count": 51,
     "metadata": {},
     "output_type": "execute_result"
    }
   ],
   "source": [
    "winner_attempts = users_df[users_df['Win'] == 1]['Attempts'].values\n",
    "loser_attempts = users_df[users_df['Win'] == 0]['Attempts'].values\n",
    "\n",
    "stats.ttest_1samp(loser_attempts, np.mean(winner_attempts))"
   ]
  },
  {
   "cell_type": "code",
   "execution_count": 36,
   "metadata": {},
   "outputs": [
    {
     "ename": "ValueError",
     "evalue": "setting an array element with a sequence.",
     "output_type": "error",
     "traceback": [
      "\u001b[0;31m---------------------------------------------------------------------------\u001b[0m",
      "\u001b[0;31mValueError\u001b[0m                                Traceback (most recent call last)",
      "\u001b[0;32m<ipython-input-36-81a7057598a7>\u001b[0m in \u001b[0;36m<module>\u001b[0;34m\u001b[0m\n\u001b[1;32m     14\u001b[0m \u001b[0mplt\u001b[0m\u001b[0;34m.\u001b[0m\u001b[0mylabel\u001b[0m\u001b[0;34m(\u001b[0m\u001b[0;34m\"Mean Number of Items Crafted\"\u001b[0m\u001b[0;34m)\u001b[0m\u001b[0;34m\u001b[0m\u001b[0;34m\u001b[0m\u001b[0m\n\u001b[1;32m     15\u001b[0m \u001b[0;34m\u001b[0m\u001b[0m\n\u001b[0;32m---> 16\u001b[0;31m \u001b[0mplt\u001b[0m\u001b[0;34m.\u001b[0m\u001b[0mplot\u001b[0m\u001b[0;34m(\u001b[0m\u001b[0;34m[\u001b[0m\u001b[0;36m1\u001b[0m\u001b[0;34m,\u001b[0m\u001b[0;36m2\u001b[0m\u001b[0;34m,\u001b[0m\u001b[0;36m3\u001b[0m\u001b[0;34m]\u001b[0m\u001b[0;34m,\u001b[0m \u001b[0;34m[\u001b[0m\u001b[0mwinner_mean_attempts1\u001b[0m\u001b[0;34m,\u001b[0m \u001b[0mwinner_mean_attempts2\u001b[0m\u001b[0;34m,\u001b[0m \u001b[0mwinner_mean_attempts3\u001b[0m\u001b[0;34m]\u001b[0m\u001b[0;34m,\u001b[0m \u001b[0;34m'rs-'\u001b[0m\u001b[0;34m,\u001b[0m \u001b[0mcolor\u001b[0m\u001b[0;34m=\u001b[0m\u001b[0;34m\"green\"\u001b[0m\u001b[0;34m,\u001b[0m \u001b[0mmarkersize\u001b[0m\u001b[0;34m=\u001b[0m\u001b[0;36m8\u001b[0m\u001b[0;34m,\u001b[0m \u001b[0mlabel\u001b[0m\u001b[0;34m=\u001b[0m\u001b[0;34m'Winners'\u001b[0m\u001b[0;34m)\u001b[0m\u001b[0;34m\u001b[0m\u001b[0;34m\u001b[0m\u001b[0m\n\u001b[0m\u001b[1;32m     17\u001b[0m \u001b[0mplt\u001b[0m\u001b[0;34m.\u001b[0m\u001b[0mplot\u001b[0m\u001b[0;34m(\u001b[0m\u001b[0;34m[\u001b[0m\u001b[0;36m1\u001b[0m\u001b[0;34m,\u001b[0m\u001b[0;36m2\u001b[0m\u001b[0;34m,\u001b[0m\u001b[0;36m3\u001b[0m\u001b[0;34m]\u001b[0m\u001b[0;34m,\u001b[0m \u001b[0;34m[\u001b[0m\u001b[0mloser_mean_attempts1\u001b[0m\u001b[0;34m,\u001b[0m \u001b[0mloser_mean_attempts2\u001b[0m\u001b[0;34m,\u001b[0m \u001b[0mloser_mean_attempts3\u001b[0m\u001b[0;34m]\u001b[0m\u001b[0;34m,\u001b[0m \u001b[0;34m'rs-'\u001b[0m\u001b[0;34m,\u001b[0m \u001b[0mcolor\u001b[0m\u001b[0;34m=\u001b[0m\u001b[0;34m\"red\"\u001b[0m\u001b[0;34m,\u001b[0m \u001b[0mmarkersize\u001b[0m\u001b[0;34m=\u001b[0m\u001b[0;36m8\u001b[0m\u001b[0;34m,\u001b[0m \u001b[0mlabel\u001b[0m\u001b[0;34m=\u001b[0m\u001b[0;34m'Losers'\u001b[0m\u001b[0;34m)\u001b[0m\u001b[0;34m\u001b[0m\u001b[0;34m\u001b[0m\u001b[0m\n\u001b[1;32m     18\u001b[0m \u001b[0mplt\u001b[0m\u001b[0;34m.\u001b[0m\u001b[0mlegend\u001b[0m\u001b[0;34m(\u001b[0m\u001b[0;34m)\u001b[0m\u001b[0;34m\u001b[0m\u001b[0;34m\u001b[0m\u001b[0m\n",
      "\u001b[0;32m~/opt/miniconda3/envs/mlp/lib/python3.7/site-packages/matplotlib/pyplot.py\u001b[0m in \u001b[0;36mplot\u001b[0;34m(scalex, scaley, data, *args, **kwargs)\u001b[0m\n\u001b[1;32m   2840\u001b[0m     return gca().plot(\n\u001b[1;32m   2841\u001b[0m         \u001b[0;34m*\u001b[0m\u001b[0margs\u001b[0m\u001b[0;34m,\u001b[0m \u001b[0mscalex\u001b[0m\u001b[0;34m=\u001b[0m\u001b[0mscalex\u001b[0m\u001b[0;34m,\u001b[0m \u001b[0mscaley\u001b[0m\u001b[0;34m=\u001b[0m\u001b[0mscaley\u001b[0m\u001b[0;34m,\u001b[0m\u001b[0;34m\u001b[0m\u001b[0;34m\u001b[0m\u001b[0m\n\u001b[0;32m-> 2842\u001b[0;31m         **({\"data\": data} if data is not None else {}), **kwargs)\n\u001b[0m\u001b[1;32m   2843\u001b[0m \u001b[0;34m\u001b[0m\u001b[0m\n\u001b[1;32m   2844\u001b[0m \u001b[0;34m\u001b[0m\u001b[0m\n",
      "\u001b[0;32m~/opt/miniconda3/envs/mlp/lib/python3.7/site-packages/matplotlib/axes/_axes.py\u001b[0m in \u001b[0;36mplot\u001b[0;34m(self, scalex, scaley, data, *args, **kwargs)\u001b[0m\n\u001b[1;32m   1743\u001b[0m         \u001b[0mlines\u001b[0m \u001b[0;34m=\u001b[0m \u001b[0;34m[\u001b[0m\u001b[0;34m*\u001b[0m\u001b[0mself\u001b[0m\u001b[0;34m.\u001b[0m\u001b[0m_get_lines\u001b[0m\u001b[0;34m(\u001b[0m\u001b[0;34m*\u001b[0m\u001b[0margs\u001b[0m\u001b[0;34m,\u001b[0m \u001b[0mdata\u001b[0m\u001b[0;34m=\u001b[0m\u001b[0mdata\u001b[0m\u001b[0;34m,\u001b[0m \u001b[0;34m**\u001b[0m\u001b[0mkwargs\u001b[0m\u001b[0;34m)\u001b[0m\u001b[0;34m]\u001b[0m\u001b[0;34m\u001b[0m\u001b[0;34m\u001b[0m\u001b[0m\n\u001b[1;32m   1744\u001b[0m         \u001b[0;32mfor\u001b[0m \u001b[0mline\u001b[0m \u001b[0;32min\u001b[0m \u001b[0mlines\u001b[0m\u001b[0;34m:\u001b[0m\u001b[0;34m\u001b[0m\u001b[0;34m\u001b[0m\u001b[0m\n\u001b[0;32m-> 1745\u001b[0;31m             \u001b[0mself\u001b[0m\u001b[0;34m.\u001b[0m\u001b[0madd_line\u001b[0m\u001b[0;34m(\u001b[0m\u001b[0mline\u001b[0m\u001b[0;34m)\u001b[0m\u001b[0;34m\u001b[0m\u001b[0;34m\u001b[0m\u001b[0m\n\u001b[0m\u001b[1;32m   1746\u001b[0m         \u001b[0mself\u001b[0m\u001b[0;34m.\u001b[0m\u001b[0m_request_autoscale_view\u001b[0m\u001b[0;34m(\u001b[0m\u001b[0mscalex\u001b[0m\u001b[0;34m=\u001b[0m\u001b[0mscalex\u001b[0m\u001b[0;34m,\u001b[0m \u001b[0mscaley\u001b[0m\u001b[0;34m=\u001b[0m\u001b[0mscaley\u001b[0m\u001b[0;34m)\u001b[0m\u001b[0;34m\u001b[0m\u001b[0;34m\u001b[0m\u001b[0m\n\u001b[1;32m   1747\u001b[0m         \u001b[0;32mreturn\u001b[0m \u001b[0mlines\u001b[0m\u001b[0;34m\u001b[0m\u001b[0;34m\u001b[0m\u001b[0m\n",
      "\u001b[0;32m~/opt/miniconda3/envs/mlp/lib/python3.7/site-packages/matplotlib/axes/_base.py\u001b[0m in \u001b[0;36madd_line\u001b[0;34m(self, line)\u001b[0m\n\u001b[1;32m   1962\u001b[0m             \u001b[0mline\u001b[0m\u001b[0;34m.\u001b[0m\u001b[0mset_clip_path\u001b[0m\u001b[0;34m(\u001b[0m\u001b[0mself\u001b[0m\u001b[0;34m.\u001b[0m\u001b[0mpatch\u001b[0m\u001b[0;34m)\u001b[0m\u001b[0;34m\u001b[0m\u001b[0;34m\u001b[0m\u001b[0m\n\u001b[1;32m   1963\u001b[0m \u001b[0;34m\u001b[0m\u001b[0m\n\u001b[0;32m-> 1964\u001b[0;31m         \u001b[0mself\u001b[0m\u001b[0;34m.\u001b[0m\u001b[0m_update_line_limits\u001b[0m\u001b[0;34m(\u001b[0m\u001b[0mline\u001b[0m\u001b[0;34m)\u001b[0m\u001b[0;34m\u001b[0m\u001b[0;34m\u001b[0m\u001b[0m\n\u001b[0m\u001b[1;32m   1965\u001b[0m         \u001b[0;32mif\u001b[0m \u001b[0;32mnot\u001b[0m \u001b[0mline\u001b[0m\u001b[0;34m.\u001b[0m\u001b[0mget_label\u001b[0m\u001b[0;34m(\u001b[0m\u001b[0;34m)\u001b[0m\u001b[0;34m:\u001b[0m\u001b[0;34m\u001b[0m\u001b[0;34m\u001b[0m\u001b[0m\n\u001b[1;32m   1966\u001b[0m             \u001b[0mline\u001b[0m\u001b[0;34m.\u001b[0m\u001b[0mset_label\u001b[0m\u001b[0;34m(\u001b[0m\u001b[0;34m'_line%d'\u001b[0m \u001b[0;34m%\u001b[0m \u001b[0mlen\u001b[0m\u001b[0;34m(\u001b[0m\u001b[0mself\u001b[0m\u001b[0;34m.\u001b[0m\u001b[0mlines\u001b[0m\u001b[0;34m)\u001b[0m\u001b[0;34m)\u001b[0m\u001b[0;34m\u001b[0m\u001b[0;34m\u001b[0m\u001b[0m\n",
      "\u001b[0;32m~/opt/miniconda3/envs/mlp/lib/python3.7/site-packages/matplotlib/axes/_base.py\u001b[0m in \u001b[0;36m_update_line_limits\u001b[0;34m(self, line)\u001b[0m\n\u001b[1;32m   1984\u001b[0m         \u001b[0mFigures\u001b[0m \u001b[0mout\u001b[0m \u001b[0mthe\u001b[0m \u001b[0mdata\u001b[0m \u001b[0mlimit\u001b[0m \u001b[0mof\u001b[0m \u001b[0mthe\u001b[0m \u001b[0mgiven\u001b[0m \u001b[0mline\u001b[0m\u001b[0;34m,\u001b[0m \u001b[0mupdating\u001b[0m \u001b[0mself\u001b[0m\u001b[0;34m.\u001b[0m\u001b[0mdataLim\u001b[0m\u001b[0;34m.\u001b[0m\u001b[0;34m\u001b[0m\u001b[0;34m\u001b[0m\u001b[0m\n\u001b[1;32m   1985\u001b[0m         \"\"\"\n\u001b[0;32m-> 1986\u001b[0;31m         \u001b[0mpath\u001b[0m \u001b[0;34m=\u001b[0m \u001b[0mline\u001b[0m\u001b[0;34m.\u001b[0m\u001b[0mget_path\u001b[0m\u001b[0;34m(\u001b[0m\u001b[0;34m)\u001b[0m\u001b[0;34m\u001b[0m\u001b[0;34m\u001b[0m\u001b[0m\n\u001b[0m\u001b[1;32m   1987\u001b[0m         \u001b[0;32mif\u001b[0m \u001b[0mpath\u001b[0m\u001b[0;34m.\u001b[0m\u001b[0mvertices\u001b[0m\u001b[0;34m.\u001b[0m\u001b[0msize\u001b[0m \u001b[0;34m==\u001b[0m \u001b[0;36m0\u001b[0m\u001b[0;34m:\u001b[0m\u001b[0;34m\u001b[0m\u001b[0;34m\u001b[0m\u001b[0m\n\u001b[1;32m   1988\u001b[0m             \u001b[0;32mreturn\u001b[0m\u001b[0;34m\u001b[0m\u001b[0;34m\u001b[0m\u001b[0m\n",
      "\u001b[0;32m~/opt/miniconda3/envs/mlp/lib/python3.7/site-packages/matplotlib/lines.py\u001b[0m in \u001b[0;36mget_path\u001b[0;34m(self)\u001b[0m\n\u001b[1;32m   1009\u001b[0m         \"\"\"\n\u001b[1;32m   1010\u001b[0m         \u001b[0;32mif\u001b[0m \u001b[0mself\u001b[0m\u001b[0;34m.\u001b[0m\u001b[0m_invalidy\u001b[0m \u001b[0;32mor\u001b[0m \u001b[0mself\u001b[0m\u001b[0;34m.\u001b[0m\u001b[0m_invalidx\u001b[0m\u001b[0;34m:\u001b[0m\u001b[0;34m\u001b[0m\u001b[0;34m\u001b[0m\u001b[0m\n\u001b[0;32m-> 1011\u001b[0;31m             \u001b[0mself\u001b[0m\u001b[0;34m.\u001b[0m\u001b[0mrecache\u001b[0m\u001b[0;34m(\u001b[0m\u001b[0;34m)\u001b[0m\u001b[0;34m\u001b[0m\u001b[0;34m\u001b[0m\u001b[0m\n\u001b[0m\u001b[1;32m   1012\u001b[0m         \u001b[0;32mreturn\u001b[0m \u001b[0mself\u001b[0m\u001b[0;34m.\u001b[0m\u001b[0m_path\u001b[0m\u001b[0;34m\u001b[0m\u001b[0;34m\u001b[0m\u001b[0m\n\u001b[1;32m   1013\u001b[0m \u001b[0;34m\u001b[0m\u001b[0m\n",
      "\u001b[0;32m~/opt/miniconda3/envs/mlp/lib/python3.7/site-packages/matplotlib/lines.py\u001b[0m in \u001b[0;36mrecache\u001b[0;34m(self, always)\u001b[0m\n\u001b[1;32m    656\u001b[0m         \u001b[0;32mif\u001b[0m \u001b[0malways\u001b[0m \u001b[0;32mor\u001b[0m \u001b[0mself\u001b[0m\u001b[0;34m.\u001b[0m\u001b[0m_invalidy\u001b[0m\u001b[0;34m:\u001b[0m\u001b[0;34m\u001b[0m\u001b[0;34m\u001b[0m\u001b[0m\n\u001b[1;32m    657\u001b[0m             \u001b[0myconv\u001b[0m \u001b[0;34m=\u001b[0m \u001b[0mself\u001b[0m\u001b[0;34m.\u001b[0m\u001b[0mconvert_yunits\u001b[0m\u001b[0;34m(\u001b[0m\u001b[0mself\u001b[0m\u001b[0;34m.\u001b[0m\u001b[0m_yorig\u001b[0m\u001b[0;34m)\u001b[0m\u001b[0;34m\u001b[0m\u001b[0;34m\u001b[0m\u001b[0m\n\u001b[0;32m--> 658\u001b[0;31m             \u001b[0my\u001b[0m \u001b[0;34m=\u001b[0m \u001b[0m_to_unmasked_float_array\u001b[0m\u001b[0;34m(\u001b[0m\u001b[0myconv\u001b[0m\u001b[0;34m)\u001b[0m\u001b[0;34m.\u001b[0m\u001b[0mravel\u001b[0m\u001b[0;34m(\u001b[0m\u001b[0;34m)\u001b[0m\u001b[0;34m\u001b[0m\u001b[0;34m\u001b[0m\u001b[0m\n\u001b[0m\u001b[1;32m    659\u001b[0m         \u001b[0;32melse\u001b[0m\u001b[0;34m:\u001b[0m\u001b[0;34m\u001b[0m\u001b[0;34m\u001b[0m\u001b[0m\n\u001b[1;32m    660\u001b[0m             \u001b[0my\u001b[0m \u001b[0;34m=\u001b[0m \u001b[0mself\u001b[0m\u001b[0;34m.\u001b[0m\u001b[0m_y\u001b[0m\u001b[0;34m\u001b[0m\u001b[0;34m\u001b[0m\u001b[0m\n",
      "\u001b[0;32m~/opt/miniconda3/envs/mlp/lib/python3.7/site-packages/matplotlib/cbook/__init__.py\u001b[0m in \u001b[0;36m_to_unmasked_float_array\u001b[0;34m(x)\u001b[0m\n\u001b[1;32m   1287\u001b[0m         \u001b[0;32mreturn\u001b[0m \u001b[0mnp\u001b[0m\u001b[0;34m.\u001b[0m\u001b[0mma\u001b[0m\u001b[0;34m.\u001b[0m\u001b[0masarray\u001b[0m\u001b[0;34m(\u001b[0m\u001b[0mx\u001b[0m\u001b[0;34m,\u001b[0m \u001b[0mfloat\u001b[0m\u001b[0;34m)\u001b[0m\u001b[0;34m.\u001b[0m\u001b[0mfilled\u001b[0m\u001b[0;34m(\u001b[0m\u001b[0mnp\u001b[0m\u001b[0;34m.\u001b[0m\u001b[0mnan\u001b[0m\u001b[0;34m)\u001b[0m\u001b[0;34m\u001b[0m\u001b[0;34m\u001b[0m\u001b[0m\n\u001b[1;32m   1288\u001b[0m     \u001b[0;32melse\u001b[0m\u001b[0;34m:\u001b[0m\u001b[0;34m\u001b[0m\u001b[0;34m\u001b[0m\u001b[0m\n\u001b[0;32m-> 1289\u001b[0;31m         \u001b[0;32mreturn\u001b[0m \u001b[0mnp\u001b[0m\u001b[0;34m.\u001b[0m\u001b[0masarray\u001b[0m\u001b[0;34m(\u001b[0m\u001b[0mx\u001b[0m\u001b[0;34m,\u001b[0m \u001b[0mfloat\u001b[0m\u001b[0;34m)\u001b[0m\u001b[0;34m\u001b[0m\u001b[0;34m\u001b[0m\u001b[0m\n\u001b[0m\u001b[1;32m   1290\u001b[0m \u001b[0;34m\u001b[0m\u001b[0m\n\u001b[1;32m   1291\u001b[0m \u001b[0;34m\u001b[0m\u001b[0m\n",
      "\u001b[0;32m~/opt/miniconda3/envs/mlp/lib/python3.7/site-packages/numpy/core/_asarray.py\u001b[0m in \u001b[0;36masarray\u001b[0;34m(a, dtype, order)\u001b[0m\n\u001b[1;32m     83\u001b[0m \u001b[0;34m\u001b[0m\u001b[0m\n\u001b[1;32m     84\u001b[0m     \"\"\"\n\u001b[0;32m---> 85\u001b[0;31m     \u001b[0;32mreturn\u001b[0m \u001b[0marray\u001b[0m\u001b[0;34m(\u001b[0m\u001b[0ma\u001b[0m\u001b[0;34m,\u001b[0m \u001b[0mdtype\u001b[0m\u001b[0;34m,\u001b[0m \u001b[0mcopy\u001b[0m\u001b[0;34m=\u001b[0m\u001b[0;32mFalse\u001b[0m\u001b[0;34m,\u001b[0m \u001b[0morder\u001b[0m\u001b[0;34m=\u001b[0m\u001b[0morder\u001b[0m\u001b[0;34m)\u001b[0m\u001b[0;34m\u001b[0m\u001b[0;34m\u001b[0m\u001b[0m\n\u001b[0m\u001b[1;32m     86\u001b[0m \u001b[0;34m\u001b[0m\u001b[0m\n\u001b[1;32m     87\u001b[0m \u001b[0;34m\u001b[0m\u001b[0m\n",
      "\u001b[0;31mValueError\u001b[0m: setting an array element with a sequence."
     ]
    },
    {
     "data": {
      "image/png": "[encoded data removed]",
      "text/plain": [
       "<Figure size 432x288 with 1 Axes>"
      ]
     },
     "metadata": {},
     "output_type": "display_data"
    }
   ],
   "source": [
    "### Crafting Attempts\n",
    "winner_mean_attempts1 = users_df[users_df['Win'] == 1]['Day1 Attempts'].mean()\n",
    "loser_mean_attempts1 =  users_df[users_df['Win'] == 0]['Day1 Attempts'].mean()\n",
    "\n",
    "winner_mean_attempts2 = users_df[users_df['Win'] == 1]['Day2 Attempts'].mean()\n",
    "loser_mean_attempts2 =  users_df[users_df['Win'] == 0]['Day2 Attempts'].mean()\n",
    "\n",
    "winner_mean_attempts3 = users_df[users_df['Win'] == 1]['Day3 Attempts']\n",
    "loser_mean_attempts3 =  users_df[users_df['Win'] == 0]['Day3 Attempts']\n",
    "\n",
    "plt.ticklabel_format(style='plain', axis='x', useOffset=False)\n",
    "plt.gca().xaxis.set_major_locator(mticker.MultipleLocator(1))\n",
    "plt.xlabel(\"Day\")\n",
    "plt.ylabel(\"Mean Number of Items Crafted\")\n",
    "\n",
    "plt.plot([1,2,3], [winner_mean_attempts1, winner_mean_attempts2, winner_mean_attempts3], 'rs-', color=\"green\", markersize=8, label='Winners')\n",
    "plt.plot([1,2,3], [loser_mean_attempts1, loser_mean_attempts2, loser_mean_attempts3], 'rs-', color=\"red\", markersize=8, label='Losers')\n",
    "plt.legend()\n",
    "plt.savefig('winners_losers_craft', bbox_inches='tight')"
   ]
  },
  {
   "cell_type": "code",
   "execution_count": 13,
   "metadata": {},
   "outputs": [
    {
     "name": "stderr",
     "output_type": "stream",
     "text": [
      "findfont: Font family ['sans-serif'] not found. Falling back to DejaVu Sans.\n",
      "findfont: Font family ['sans-serif'] not found. Falling back to DejaVu Sans.\n"
     ]
    },
    {
     "data": {
      "image/png": "[encoded data removed]",
      "text/plain": [
       "<Figure size 432x288 with 1 Axes>"
      ]
     },
     "metadata": {},
     "output_type": "display_data"
    }
   ],
   "source": [
    "fig, ax = plt.subplots()\n",
    "color_palette_list = ['#00ff00', '#00ffff','#ff0000']\n",
    "plt.rcParams['font.sans-serif'] = 'monospace'\n",
    "plt.rcParams['text.color'] = '#000000'\n",
    "plt.rcParams['axes.labelcolor']= '#000000'\n",
    "plt.rcParams['xtick.color'] = '#909090'\n",
    "plt.rcParams['ytick.color'] = '#909090'\n",
    "plt.rcParams['font.size']=15\n",
    "\n",
    "labels = ['food1, food1, food1 (126)', \n",
    "         'food1, food1 (28)', \n",
    "         'food1 (45)' ]\n",
    "\n",
    "percentages = [126/199, 28/199, 45/199]\n",
    "ax.pie(percentages,  \n",
    "       colors=color_palette_list[0:3], autopct='%1.0f%%', \n",
    "       shadow=False, startangle=0,   \n",
    "       pctdistance=0.6,labeldistance=1)\n",
    "ax.axis('equal')\n",
    "ax.legend(frameon=True, bbox_to_anchor=(0.7,0.6), labels=labels)\n",
    "plt.savefig('first_attempt', bbox_inches='tight')"
   ]
  },
  {
   "cell_type": "code",
   "execution_count": 14,
   "metadata": {},
   "outputs": [],
   "source": [
    "# drop attempts like food3,food3,food3 where sum exceeds possible levels\n",
    "# drop attempts like food1, weapon2 where item types do not match\n",
    "\n",
    "good_inputs = ['food1,food1',\n",
    "              'food1,food1,food1',\n",
    "              'food1,food2',\n",
    "              'food2,food1',\n",
    "              'food2,food2',\n",
    "              'food1,food3',\n",
    "              'food3,food1',\n",
    "              'food1,food2,food1',\n",
    "              'food2,food1,food1',\n",
    "              'food1,food1,food2',\n",
    "              'weapon1,weapon1',\n",
    "              'weapon1,weapon2',\n",
    "              'weapon2,weapon1',\n",
    "              'weapon2,weapon2',\n",
    "              'weapon1,weapon3',\n",
    "              'weapon3,weapon1',\n",
    "              'weapon1,weapon1,weapon1',\n",
    "              'weapon1,weapon2,weapon1',\n",
    "              'weapon2,weapon1,weapon1',\n",
    "              'weapon1,weapon1,weapon2']\n",
    "\n",
    "strict_inputs = ['food1,food1',\n",
    "              'food1,food1,food1',\n",
    "              'food2,food2',\n",
    "              'weapon1,weapon1',\n",
    "              'weapon2,weapon2',\n",
    "              'weapon1,weapon1,weapon1']\n",
    "\n",
    "flexible_inputs = ['food1,food2',\n",
    "              'food2,food1',\n",
    "              'food1,food3',\n",
    "              'food3,food1',\n",
    "              'food1,food2,food1',\n",
    "              'food2,food1,food1',\n",
    "              'food1,food1,food2',\n",
    "              'weapon1,weapon2',\n",
    "              'weapon2,weapon1',\n",
    "              'weapon1,weapon3',\n",
    "              'weapon3,weapon1',\n",
    "              'weapon1,weapon2,weapon1',\n",
    "              'weapon2,weapon1,weapon1',\n",
    "              'weapon1,weapon1,weapon2']\n",
    "\n",
    "\n",
    "df = df[df.Inputs.isin(good_inputs)] "
   ]
  },
  {
   "cell_type": "markdown",
   "metadata": {},
   "source": [
    "### Hypothesis 1:  Exposure to a strict system before a flexible system will cause participants to be more conservative when learning the new system. This is because they learn the concept that \"levels must always match'', and they try to apply it to unseen objects.\n",
    "\n",
    "* conservativeness = #strict / #inputs\n",
    "* Compute conservativeness for each participant. \n",
    "* Take average for each group. "
   ]
  },
  {
   "cell_type": "code",
   "execution_count": 81,
   "metadata": {},
   "outputs": [
    {
     "data": {
      "text/html": [
       "<div>\n",
       "<style scoped>\n",
       "    .dataframe tbody tr th:only-of-type {\n",
       "        vertical-align: middle;\n",
       "    }\n",
       "\n",
       "    .dataframe tbody tr th {\n",
       "        vertical-align: top;\n",
       "    }\n",
       "\n",
       "    .dataframe thead th {\n",
       "        text-align: right;\n",
       "    }\n",
       "</style>\n",
       "<table border=\"1\" class=\"dataframe\">\n",
       "  <thead>\n",
       "    <tr style=\"text-align: right;\">\n",
       "      <th></th>\n",
       "      <th>ID</th>\n",
       "      <th>Time</th>\n",
       "      <th>Group</th>\n",
       "      <th>Day</th>\n",
       "      <th>Inputs</th>\n",
       "      <th>Success</th>\n",
       "    </tr>\n",
       "  </thead>\n",
       "  <tbody>\n",
       "    <tr>\n",
       "      <th>1022</th>\n",
       "      <td>128391</td>\n",
       "      <td>3/8/2021 @ 16:32</td>\n",
       "      <td>2</td>\n",
       "      <td>1</td>\n",
       "      <td>food1,food1</td>\n",
       "      <td>1</td>\n",
       "    </tr>\n",
       "    <tr>\n",
       "      <th>1023</th>\n",
       "      <td>128391</td>\n",
       "      <td>3/8/2021 @ 16:32</td>\n",
       "      <td>2</td>\n",
       "      <td>1</td>\n",
       "      <td>food1,food1,food1</td>\n",
       "      <td>1</td>\n",
       "    </tr>\n",
       "    <tr>\n",
       "      <th>1024</th>\n",
       "      <td>128391</td>\n",
       "      <td>3/8/2021 @ 16:32</td>\n",
       "      <td>2</td>\n",
       "      <td>1</td>\n",
       "      <td>food1,food2</td>\n",
       "      <td>0</td>\n",
       "    </tr>\n",
       "    <tr>\n",
       "      <th>1025</th>\n",
       "      <td>128391</td>\n",
       "      <td>3/8/2021 @ 16:32</td>\n",
       "      <td>2</td>\n",
       "      <td>1</td>\n",
       "      <td>food1,food1,food1</td>\n",
       "      <td>1</td>\n",
       "    </tr>\n",
       "    <tr>\n",
       "      <th>1027</th>\n",
       "      <td>128391</td>\n",
       "      <td>3/8/2021 @ 16:32</td>\n",
       "      <td>2</td>\n",
       "      <td>1</td>\n",
       "      <td>food3,food1</td>\n",
       "      <td>0</td>\n",
       "    </tr>\n",
       "    <tr>\n",
       "      <th>1029</th>\n",
       "      <td>128391</td>\n",
       "      <td>3/8/2021 @ 16:32</td>\n",
       "      <td>2</td>\n",
       "      <td>1</td>\n",
       "      <td>food1,food1</td>\n",
       "      <td>1</td>\n",
       "    </tr>\n",
       "    <tr>\n",
       "      <th>1031</th>\n",
       "      <td>128391</td>\n",
       "      <td>3/8/2021 @ 16:32</td>\n",
       "      <td>2</td>\n",
       "      <td>1</td>\n",
       "      <td>food2,food2</td>\n",
       "      <td>1</td>\n",
       "    </tr>\n",
       "    <tr>\n",
       "      <th>1036</th>\n",
       "      <td>128391</td>\n",
       "      <td>3/8/2021 @ 16:33</td>\n",
       "      <td>2</td>\n",
       "      <td>1</td>\n",
       "      <td>food3,food1</td>\n",
       "      <td>0</td>\n",
       "    </tr>\n",
       "    <tr>\n",
       "      <th>1049</th>\n",
       "      <td>128391</td>\n",
       "      <td>3/8/2021 @ 16:35</td>\n",
       "      <td>2</td>\n",
       "      <td>2</td>\n",
       "      <td>food1,food1,food1</td>\n",
       "      <td>1</td>\n",
       "    </tr>\n",
       "    <tr>\n",
       "      <th>1051</th>\n",
       "      <td>128391</td>\n",
       "      <td>3/8/2021 @ 16:35</td>\n",
       "      <td>2</td>\n",
       "      <td>2</td>\n",
       "      <td>food1,food1,food1</td>\n",
       "      <td>1</td>\n",
       "    </tr>\n",
       "    <tr>\n",
       "      <th>1053</th>\n",
       "      <td>128391</td>\n",
       "      <td>3/8/2021 @ 16:35</td>\n",
       "      <td>2</td>\n",
       "      <td>2</td>\n",
       "      <td>food1,food1</td>\n",
       "      <td>1</td>\n",
       "    </tr>\n",
       "    <tr>\n",
       "      <th>1055</th>\n",
       "      <td>128391</td>\n",
       "      <td>3/8/2021 @ 16:37</td>\n",
       "      <td>2</td>\n",
       "      <td>3</td>\n",
       "      <td>weapon1,weapon1,weapon1</td>\n",
       "      <td>1</td>\n",
       "    </tr>\n",
       "    <tr>\n",
       "      <th>1057</th>\n",
       "      <td>128391</td>\n",
       "      <td>3/8/2021 @ 16:37</td>\n",
       "      <td>2</td>\n",
       "      <td>3</td>\n",
       "      <td>weapon1,weapon1,weapon1</td>\n",
       "      <td>1</td>\n",
       "    </tr>\n",
       "    <tr>\n",
       "      <th>1059</th>\n",
       "      <td>128391</td>\n",
       "      <td>3/8/2021 @ 16:37</td>\n",
       "      <td>2</td>\n",
       "      <td>3</td>\n",
       "      <td>weapon1,weapon1</td>\n",
       "      <td>1</td>\n",
       "    </tr>\n",
       "    <tr>\n",
       "      <th>1060</th>\n",
       "      <td>128391</td>\n",
       "      <td>3/8/2021 @ 16:37</td>\n",
       "      <td>2</td>\n",
       "      <td>3</td>\n",
       "      <td>weapon1,weapon1</td>\n",
       "      <td>1</td>\n",
       "    </tr>\n",
       "    <tr>\n",
       "      <th>1061</th>\n",
       "      <td>128391</td>\n",
       "      <td>3/8/2021 @ 16:37</td>\n",
       "      <td>2</td>\n",
       "      <td>3</td>\n",
       "      <td>weapon1,weapon1,weapon1</td>\n",
       "      <td>1</td>\n",
       "    </tr>\n",
       "    <tr>\n",
       "      <th>1062</th>\n",
       "      <td>128391</td>\n",
       "      <td>3/8/2021 @ 16:37</td>\n",
       "      <td>2</td>\n",
       "      <td>3</td>\n",
       "      <td>weapon2,weapon2</td>\n",
       "      <td>1</td>\n",
       "    </tr>\n",
       "    <tr>\n",
       "      <th>1063</th>\n",
       "      <td>128391</td>\n",
       "      <td>3/8/2021 @ 16:37</td>\n",
       "      <td>2</td>\n",
       "      <td>3</td>\n",
       "      <td>weapon1,weapon1</td>\n",
       "      <td>1</td>\n",
       "    </tr>\n",
       "    <tr>\n",
       "      <th>1064</th>\n",
       "      <td>128391</td>\n",
       "      <td>3/8/2021 @ 16:37</td>\n",
       "      <td>2</td>\n",
       "      <td>3</td>\n",
       "      <td>weapon1,weapon1</td>\n",
       "      <td>1</td>\n",
       "    </tr>\n",
       "    <tr>\n",
       "      <th>1065</th>\n",
       "      <td>128391</td>\n",
       "      <td>3/8/2021 @ 16:37</td>\n",
       "      <td>2</td>\n",
       "      <td>3</td>\n",
       "      <td>weapon1,weapon1</td>\n",
       "      <td>1</td>\n",
       "    </tr>\n",
       "    <tr>\n",
       "      <th>1066</th>\n",
       "      <td>128391</td>\n",
       "      <td>3/8/2021 @ 16:37</td>\n",
       "      <td>2</td>\n",
       "      <td>3</td>\n",
       "      <td>weapon1,weapon1</td>\n",
       "      <td>1</td>\n",
       "    </tr>\n",
       "    <tr>\n",
       "      <th>1067</th>\n",
       "      <td>128391</td>\n",
       "      <td>3/8/2021 @ 16:37</td>\n",
       "      <td>2</td>\n",
       "      <td>3</td>\n",
       "      <td>weapon1,weapon1,weapon1</td>\n",
       "      <td>1</td>\n",
       "    </tr>\n",
       "    <tr>\n",
       "      <th>1069</th>\n",
       "      <td>128391</td>\n",
       "      <td>3/8/2021 @ 16:37</td>\n",
       "      <td>2</td>\n",
       "      <td>3</td>\n",
       "      <td>weapon1,weapon1,weapon1</td>\n",
       "      <td>1</td>\n",
       "    </tr>\n",
       "    <tr>\n",
       "      <th>1070</th>\n",
       "      <td>128391</td>\n",
       "      <td>3/8/2021 @ 16:37</td>\n",
       "      <td>2</td>\n",
       "      <td>3</td>\n",
       "      <td>weapon1,weapon1,weapon1</td>\n",
       "      <td>1</td>\n",
       "    </tr>\n",
       "    <tr>\n",
       "      <th>1071</th>\n",
       "      <td>128391</td>\n",
       "      <td>3/8/2021 @ 16:37</td>\n",
       "      <td>2</td>\n",
       "      <td>3</td>\n",
       "      <td>weapon1,weapon1,weapon1</td>\n",
       "      <td>1</td>\n",
       "    </tr>\n",
       "    <tr>\n",
       "      <th>1072</th>\n",
       "      <td>128391</td>\n",
       "      <td>3/8/2021 @ 16:37</td>\n",
       "      <td>2</td>\n",
       "      <td>3</td>\n",
       "      <td>weapon1,weapon1</td>\n",
       "      <td>1</td>\n",
       "    </tr>\n",
       "    <tr>\n",
       "      <th>1073</th>\n",
       "      <td>128391</td>\n",
       "      <td>3/8/2021 @ 16:37</td>\n",
       "      <td>2</td>\n",
       "      <td>3</td>\n",
       "      <td>weapon1,weapon1</td>\n",
       "      <td>1</td>\n",
       "    </tr>\n",
       "    <tr>\n",
       "      <th>1074</th>\n",
       "      <td>128391</td>\n",
       "      <td>3/8/2021 @ 16:37</td>\n",
       "      <td>2</td>\n",
       "      <td>3</td>\n",
       "      <td>weapon2,weapon2</td>\n",
       "      <td>1</td>\n",
       "    </tr>\n",
       "    <tr>\n",
       "      <th>1075</th>\n",
       "      <td>128391</td>\n",
       "      <td>3/8/2021 @ 16:37</td>\n",
       "      <td>2</td>\n",
       "      <td>3</td>\n",
       "      <td>weapon2,weapon2</td>\n",
       "      <td>1</td>\n",
       "    </tr>\n",
       "    <tr>\n",
       "      <th>1076</th>\n",
       "      <td>128391</td>\n",
       "      <td>3/8/2021 @ 16:37</td>\n",
       "      <td>2</td>\n",
       "      <td>3</td>\n",
       "      <td>weapon2,weapon2</td>\n",
       "      <td>1</td>\n",
       "    </tr>\n",
       "    <tr>\n",
       "      <th>1077</th>\n",
       "      <td>128391</td>\n",
       "      <td>3/8/2021 @ 16:37</td>\n",
       "      <td>2</td>\n",
       "      <td>3</td>\n",
       "      <td>weapon1,weapon1,weapon1</td>\n",
       "      <td>1</td>\n",
       "    </tr>\n",
       "    <tr>\n",
       "      <th>1078</th>\n",
       "      <td>128391</td>\n",
       "      <td>3/8/2021 @ 16:38</td>\n",
       "      <td>2</td>\n",
       "      <td>3</td>\n",
       "      <td>weapon1,weapon1,weapon1</td>\n",
       "      <td>1</td>\n",
       "    </tr>\n",
       "    <tr>\n",
       "      <th>1079</th>\n",
       "      <td>128391</td>\n",
       "      <td>3/8/2021 @ 16:38</td>\n",
       "      <td>2</td>\n",
       "      <td>3</td>\n",
       "      <td>weapon1,weapon1</td>\n",
       "      <td>1</td>\n",
       "    </tr>\n",
       "  </tbody>\n",
       "</table>\n",
       "</div>"
      ],
      "text/plain": [
       "          ID              Time  Group  Day                   Inputs  Success\n",
       "1022  128391  3/8/2021 @ 16:32      2    1              food1,food1        1\n",
       "1023  128391  3/8/2021 @ 16:32      2    1        food1,food1,food1        1\n",
       "1024  128391  3/8/2021 @ 16:32      2    1              food1,food2        0\n",
       "1025  128391  3/8/2021 @ 16:32      2    1        food1,food1,food1        1\n",
       "1027  128391  3/8/2021 @ 16:32      2    1              food3,food1        0\n",
       "1029  128391  3/8/2021 @ 16:32      2    1              food1,food1        1\n",
       "1031  128391  3/8/2021 @ 16:32      2    1              food2,food2        1\n",
       "1036  128391  3/8/2021 @ 16:33      2    1              food3,food1        0\n",
       "1049  128391  3/8/2021 @ 16:35      2    2        food1,food1,food1        1\n",
       "1051  128391  3/8/2021 @ 16:35      2    2        food1,food1,food1        1\n",
       "1053  128391  3/8/2021 @ 16:35      2    2              food1,food1        1\n",
       "1055  128391  3/8/2021 @ 16:37      2    3  weapon1,weapon1,weapon1        1\n",
       "1057  128391  3/8/2021 @ 16:37      2    3  weapon1,weapon1,weapon1        1\n",
       "1059  128391  3/8/2021 @ 16:37      2    3          weapon1,weapon1        1\n",
       "1060  128391  3/8/2021 @ 16:37      2    3          weapon1,weapon1        1\n",
       "1061  128391  3/8/2021 @ 16:37      2    3  weapon1,weapon1,weapon1        1\n",
       "1062  128391  3/8/2021 @ 16:37      2    3          weapon2,weapon2        1\n",
       "1063  128391  3/8/2021 @ 16:37      2    3          weapon1,weapon1        1\n",
       "1064  128391  3/8/2021 @ 16:37      2    3          weapon1,weapon1        1\n",
       "1065  128391  3/8/2021 @ 16:37      2    3          weapon1,weapon1        1\n",
       "1066  128391  3/8/2021 @ 16:37      2    3          weapon1,weapon1        1\n",
       "1067  128391  3/8/2021 @ 16:37      2    3  weapon1,weapon1,weapon1        1\n",
       "1069  128391  3/8/2021 @ 16:37      2    3  weapon1,weapon1,weapon1        1\n",
       "1070  128391  3/8/2021 @ 16:37      2    3  weapon1,weapon1,weapon1        1\n",
       "1071  128391  3/8/2021 @ 16:37      2    3  weapon1,weapon1,weapon1        1\n",
       "1072  128391  3/8/2021 @ 16:37      2    3          weapon1,weapon1        1\n",
       "1073  128391  3/8/2021 @ 16:37      2    3          weapon1,weapon1        1\n",
       "1074  128391  3/8/2021 @ 16:37      2    3          weapon2,weapon2        1\n",
       "1075  128391  3/8/2021 @ 16:37      2    3          weapon2,weapon2        1\n",
       "1076  128391  3/8/2021 @ 16:37      2    3          weapon2,weapon2        1\n",
       "1077  128391  3/8/2021 @ 16:37      2    3  weapon1,weapon1,weapon1        1\n",
       "1078  128391  3/8/2021 @ 16:38      2    3  weapon1,weapon1,weapon1        1\n",
       "1079  128391  3/8/2021 @ 16:38      2    3          weapon1,weapon1        1"
      ]
     },
     "execution_count": 81,
     "metadata": {},
     "output_type": "execute_result"
    }
   ],
   "source": [
    "df_completed[df_completed['ID'] == completed_ids[33]]"
   ]
  },
  {
   "cell_type": "code",
   "execution_count": 15,
   "metadata": {},
   "outputs": [],
   "source": [
    "df_completed = df[df['ID'].isin(completed_ids)]\n",
    "\n",
    "df_group1 = df_completed[df_completed['Group'] == 1]\n",
    "df_group2 = df_completed[df_completed['Group'] == 2]\n",
    "group1_ids = df_group1['ID'].unique()\n",
    "group2_ids = df_group2['ID'].unique()\n",
    "\n",
    "df_group1_train = df_group1[df_group1['Day'] != 3]\n",
    "df_group1_test = df_group1[df_group1['Day'] == 3]\n",
    "# remove food attempts from test set\n",
    "df_group1_test = df_group1_test[~df_group1_test['Inputs'].str.contains('food')]\n",
    "\n",
    "df_group2_train = df_group2[df_group2['Day'] != 3]\n",
    "df_group2_test = df_group2[df_group2['Day'] == 3]\n",
    "# remove food attempts from test set\n",
    "df_group2_test = df_group2_test[~df_group2_test['Inputs'].str.contains('food')]"
   ]
  },
  {
   "cell_type": "code",
   "execution_count": 16,
   "metadata": {},
   "outputs": [
    {
     "data": {
      "text/plain": [
       "weapon1,weapon1,weapon1    189\n",
       "weapon1,weapon1            151\n",
       "weapon2,weapon2             40\n",
       "weapon3,weapon1              9\n",
       "weapon1,weapon3              1\n",
       "Name: Inputs, dtype: int64"
      ]
     },
     "execution_count": 16,
     "metadata": {},
     "output_type": "execute_result"
    }
   ],
   "source": [
    "df_group1_train['Inputs'].value_counts()\n",
    "df_group2_test['Inputs'].value_counts()"
   ]
  },
  {
   "cell_type": "code",
   "execution_count": 24,
   "metadata": {},
   "outputs": [
    {
     "data": {
      "text/plain": [
       "(0.8634484692560916, 0.938953081232493)"
      ]
     },
     "execution_count": 24,
     "metadata": {},
     "output_type": "execute_result"
    }
   ],
   "source": [
    "# TODO: compute conservativeness for group1_train, group2_test\n",
    "conservative_train = []\n",
    "\n",
    "for group1_id in group1_ids:\n",
    "    # get train data\n",
    "    conservativeness = 0\n",
    "    data_id = df_group1_train[df_group1_train['ID'] == group1_id]\n",
    "    strict_attempts = data_id[data_id['Inputs'].isin(strict_inputs)]\n",
    "    flexible_attempts = data_id[data_id['Inputs'].isin(flexible_inputs)]\n",
    "    if data_id.shape[0] > 0: \n",
    "        conservativeness = strict_attempts.shape[0] / data_id.shape[0]\n",
    "    conservative_train.append(conservativeness)\n",
    "\n",
    "conservative_test = []\n",
    "for group2_id in group2_ids:\n",
    "    # get test data\n",
    "    conservativeness = 0\n",
    "    data_id = df_group2_test[df_group2_test['ID'] == group2_id]\n",
    "    strict_attempts = data_id[data_id['Inputs'].isin(strict_inputs)]\n",
    "    flexible_attempts = data_id[data_id['Inputs'].isin(flexible_inputs)]\n",
    "    if data_id.shape[0] > 0: \n",
    "        conservativeness = strict_attempts.shape[0] / data_id.shape[0]\n",
    "    conservative_test.append(conservativeness)\n",
    "\n",
    "\n",
    "np.mean(conservative_train), np.mean(conservative_test)"
   ]
  },
  {
   "cell_type": "code",
   "execution_count": 26,
   "metadata": {},
   "outputs": [
    {
     "data": {
      "text/plain": [
       "Ttest_1sampResult(statistic=2.032890697232882, pvalue=0.0520037768189807)"
      ]
     },
     "execution_count": 26,
     "metadata": {},
     "output_type": "execute_result"
    }
   ],
   "source": [
    "stats.ttest_1samp(conservative_test, np.mean(conservative_train))"
   ]
  },
  {
   "cell_type": "markdown",
   "metadata": {},
   "source": [
    "### Hypothesis 2: Exposure to a flexible system before a strict system causes participants to make more mistakes.  This is because their concept definition does not involve an equality of levels.\n",
    "\n",
    "* For each participant, compute #failure / # total attempts"
   ]
  },
  {
   "cell_type": "code",
   "execution_count": 28,
   "metadata": {},
   "outputs": [
    {
     "data": {
      "text/plain": [
       "(325, 6)"
      ]
     },
     "execution_count": 28,
     "metadata": {},
     "output_type": "execute_result"
    }
   ],
   "source": [
    "#df_group2_train['Inputs'].value_counts() # learning strict \n",
    "#df_group1_test['Inputs'].value_counts() # learning strict, conditioned on flexible\n",
    "\n",
    "df_group1_test.shape"
   ]
  },
  {
   "cell_type": "code",
   "execution_count": 20,
   "metadata": {},
   "outputs": [
    {
     "data": {
      "text/plain": [
       "(0.05493970315398887, 0.046364586168687924)"
      ]
     },
     "execution_count": 20,
     "metadata": {},
     "output_type": "execute_result"
    }
   ],
   "source": [
    "# TODO: compute fail ratio for group1_train, group2_test\n",
    "fail_train = []\n",
    "\n",
    "for group2_id in group2_ids:\n",
    "    fail_ratio = 0\n",
    "    data_id = df_group2_train[df_group2_train['ID'] == group2_id]\n",
    "    num_fails = data_id[data_id['Success'] == 0].shape[0]\n",
    "    if data_id.shape[0] > 0: \n",
    "        fail_ratio = num_fails / data_id.shape[0]\n",
    "    fail_train.append(fail_ratio)\n",
    "\n",
    "fail_test = []\n",
    "for group1_id in group1_ids:\n",
    "    fail_ratio = 0\n",
    "    data_id = df_group1_test[df_group1_test['ID'] == group1_id]\n",
    "    num_fails = data_id[data_id['Success'] == 0].shape[0]\n",
    "    if data_id.shape[0] > 0:\n",
    "        fail_ratio = num_fails / data_id.shape[0]\n",
    "    fail_test.append(fail_ratio)\n",
    "\n",
    "np.mean(fail_train), np.mean(fail_test)"
   ]
  },
  {
   "cell_type": "code",
   "execution_count": 30,
   "metadata": {},
   "outputs": [
    {
     "data": {
      "text/plain": [
       "Ttest_1sampResult(statistic=-0.5496334065256038, pvalue=0.5869284740975897)"
      ]
     },
     "execution_count": 30,
     "metadata": {},
     "output_type": "execute_result"
    }
   ],
   "source": [
    "stats.ttest_1samp(fail_test, np.mean(fail_train))"
   ]
  }
 ],
 "metadata": {
  "kernelspec": {
   "display_name": "Python 3",
   "language": "python",
   "name": "python3"
  },
  "language_info": {
   "codemirror_mode": {
    "name": "ipython",
    "version": 3
   },
   "file_extension": ".py",
   "mimetype": "text/x-python",
   "name": "python",
   "nbconvert_exporter": "python",
   "pygments_lexer": "ipython3",
   "version": "3.7.5"
  }
 },
 "nbformat": 4,
 "nbformat_minor": 4
}
