{
 "cells": [
  {
   "cell_type": "code",
   "execution_count": 289,
   "metadata": {},
   "outputs": [],
   "source": [
    "import pandas as pd\n",
    "import seaborn as sns\n",
    "import numpy as np\n",
    "import matplotlib.pyplot as plt\n",
    "import matplotlib.ticker as mticker\n",
    "import scipy.stats as stats\n",
    "%matplotlib inline"
   ]
  },
  {
   "cell_type": "code",
   "execution_count": 39,
   "metadata": {},
   "outputs": [
    {
     "data": {
      "text/plain": [
       "(259, 44)"
      ]
     },
     "execution_count": 39,
     "metadata": {},
     "output_type": "execute_result"
    }
   ],
   "source": [
    "winners_df = pd.read_excel('winners.xlsx')\n",
    "winner_ids = list(winners_df['Winners'])\n",
    "num_winners = len(winner_ids)\n",
    "\n",
    "df = pd.read_excel('crafting.xlsx')\n",
    "unique_participants = df['ID'].unique()\n",
    "num_participants = unique_participants.shape[0]\n",
    "\n",
    "num_participants, num_winners"
   ]
  },
  {
   "cell_type": "code",
   "execution_count": 40,
   "metadata": {},
   "outputs": [
    {
     "data": {
      "text/plain": [
       "201"
      ]
     },
     "execution_count": 40,
     "metadata": {},
     "output_type": "execute_result"
    }
   ],
   "source": [
    "#nan_participants \n",
    "df = df.dropna()\n",
    "unique_participants = df['ID'].unique()\n",
    "num_participants = unique_participants.shape[0]\n",
    "num_participants"
   ]
  },
  {
   "cell_type": "code",
   "execution_count": 147,
   "metadata": {},
   "outputs": [
    {
     "data": {
      "text/plain": [
       "(179, 72, 55)"
      ]
     },
     "execution_count": 147,
     "metadata": {},
     "output_type": "execute_result"
    }
   ],
   "source": [
    "day1_crafters = df[df['Day'] == 1]['ID'].unique().shape[0]\n",
    "day2_crafters = df[df['Day'] == 2]['ID'].unique().shape[0]\n",
    "day3_crafters = df[df['Day'] == 3]['ID'].unique().shape[0]\n",
    "\n",
    "day1_crafters, day2_crafters, day3_crafters"
   ]
  },
  {
   "cell_type": "code",
   "execution_count": 42,
   "metadata": {},
   "outputs": [
    {
     "data": {
      "text/plain": [
       "(44, 13)"
      ]
     },
     "execution_count": 42,
     "metadata": {},
     "output_type": "execute_result"
    }
   ],
   "source": [
    "# Let's find the losers 11/55\n",
    "losers = set(df[df['Day'] == 3]['ID'].unique()) - set(winner_ids)\n",
    "losers_df = df[df['ID'].isin(losers)]\n",
    "winners_df = df[df['ID'].isin(winner_ids)]\n",
    "\n",
    "num_winners = len(winner_ids)\n",
    "num_losers = len(losers)\n",
    "\n",
    "num_winners, num_losers"
   ]
  },
  {
   "cell_type": "code",
   "execution_count": 43,
   "metadata": {},
   "outputs": [
    {
     "data": {
      "text/plain": [
       "57"
      ]
     },
     "execution_count": 43,
     "metadata": {},
     "output_type": "execute_result"
    }
   ],
   "source": [
    "completed_ids = list(losers) + winner_ids\n",
    "len(completed_ids)"
   ]
  },
  {
   "cell_type": "code",
   "execution_count": 44,
   "metadata": {},
   "outputs": [],
   "source": [
    "level4_weapons = ['weapon2,weapon2', 'weapon3,weapon1', 'weapon1,weapon3']\n",
    "level4_foods = ['food3,food1', 'food1,food3', 'food2,food2']"
   ]
  },
  {
   "cell_type": "code",
   "execution_count": 127,
   "metadata": {},
   "outputs": [],
   "source": [
    "single_primitives = df[df['Inputs'].isin(['food1','food2','food3','food4','weapon1','weapon2','weapon3','weapon4'])]"
   ]
  },
  {
   "cell_type": "code",
   "execution_count": 118,
   "metadata": {},
   "outputs": [
    {
     "data": {
      "text/plain": [
       "(658, 6)"
      ]
     },
     "execution_count": 118,
     "metadata": {},
     "output_type": "execute_result"
    }
   ],
   "source": [
    "df[df['Inputs'] == 'food1,food1,food1'].shape"
   ]
  },
  {
   "cell_type": "code",
   "execution_count": 124,
   "metadata": {},
   "outputs": [
    {
     "data": {
      "text/html": [
       "<div>\n",
       "<style scoped>\n",
       "    .dataframe tbody tr th:only-of-type {\n",
       "        vertical-align: middle;\n",
       "    }\n",
       "\n",
       "    .dataframe tbody tr th {\n",
       "        vertical-align: top;\n",
       "    }\n",
       "\n",
       "    .dataframe thead th {\n",
       "        text-align: right;\n",
       "    }\n",
       "</style>\n",
       "<table border=\"1\" class=\"dataframe\">\n",
       "  <thead>\n",
       "    <tr style=\"text-align: right;\">\n",
       "      <th></th>\n",
       "      <th>Group</th>\n",
       "      <th>Attempts</th>\n",
       "      <th>Day1 Attempts</th>\n",
       "      <th>Day2 Attempts</th>\n",
       "      <th>Day3 Attempts</th>\n",
       "      <th>Weapon4 Crafted</th>\n",
       "      <th>Food4 Crafted</th>\n",
       "      <th>Win</th>\n",
       "    </tr>\n",
       "  </thead>\n",
       "  <tbody>\n",
       "    <tr>\n",
       "      <th>Group</th>\n",
       "      <td>1.000000</td>\n",
       "      <td>0.167356</td>\n",
       "      <td>0.135567</td>\n",
       "      <td>0.024673</td>\n",
       "      <td>0.158063</td>\n",
       "      <td>0.134909</td>\n",
       "      <td>-0.085217</td>\n",
       "      <td>0.032281</td>\n",
       "    </tr>\n",
       "    <tr>\n",
       "      <th>Attempts</th>\n",
       "      <td>0.167356</td>\n",
       "      <td>1.000000</td>\n",
       "      <td>0.534191</td>\n",
       "      <td>0.541275</td>\n",
       "      <td>0.854450</td>\n",
       "      <td>0.639330</td>\n",
       "      <td>0.467692</td>\n",
       "      <td>0.371634</td>\n",
       "    </tr>\n",
       "    <tr>\n",
       "      <th>Day1 Attempts</th>\n",
       "      <td>0.135567</td>\n",
       "      <td>0.534191</td>\n",
       "      <td>1.000000</td>\n",
       "      <td>0.116994</td>\n",
       "      <td>0.228202</td>\n",
       "      <td>0.262221</td>\n",
       "      <td>0.357887</td>\n",
       "      <td>0.250295</td>\n",
       "    </tr>\n",
       "    <tr>\n",
       "      <th>Day2 Attempts</th>\n",
       "      <td>0.024673</td>\n",
       "      <td>0.541275</td>\n",
       "      <td>0.116994</td>\n",
       "      <td>1.000000</td>\n",
       "      <td>0.155356</td>\n",
       "      <td>0.078000</td>\n",
       "      <td>0.510514</td>\n",
       "      <td>0.202375</td>\n",
       "    </tr>\n",
       "    <tr>\n",
       "      <th>Day3 Attempts</th>\n",
       "      <td>0.158063</td>\n",
       "      <td>0.854450</td>\n",
       "      <td>0.228202</td>\n",
       "      <td>0.155356</td>\n",
       "      <td>1.000000</td>\n",
       "      <td>0.727840</td>\n",
       "      <td>0.210922</td>\n",
       "      <td>0.293559</td>\n",
       "    </tr>\n",
       "    <tr>\n",
       "      <th>Weapon4 Crafted</th>\n",
       "      <td>0.134909</td>\n",
       "      <td>0.639330</td>\n",
       "      <td>0.262221</td>\n",
       "      <td>0.078000</td>\n",
       "      <td>0.727840</td>\n",
       "      <td>1.000000</td>\n",
       "      <td>0.295073</td>\n",
       "      <td>0.168908</td>\n",
       "    </tr>\n",
       "    <tr>\n",
       "      <th>Food4 Crafted</th>\n",
       "      <td>-0.085217</td>\n",
       "      <td>0.467692</td>\n",
       "      <td>0.357887</td>\n",
       "      <td>0.510514</td>\n",
       "      <td>0.210922</td>\n",
       "      <td>0.295073</td>\n",
       "      <td>1.000000</td>\n",
       "      <td>0.118191</td>\n",
       "    </tr>\n",
       "    <tr>\n",
       "      <th>Win</th>\n",
       "      <td>0.032281</td>\n",
       "      <td>0.371634</td>\n",
       "      <td>0.250295</td>\n",
       "      <td>0.202375</td>\n",
       "      <td>0.293559</td>\n",
       "      <td>0.168908</td>\n",
       "      <td>0.118191</td>\n",
       "      <td>1.000000</td>\n",
       "    </tr>\n",
       "  </tbody>\n",
       "</table>\n",
       "</div>"
      ],
      "text/plain": [
       "                    Group  Attempts  Day1 Attempts  Day2 Attempts  \\\n",
       "Group            1.000000  0.167356       0.135567       0.024673   \n",
       "Attempts         0.167356  1.000000       0.534191       0.541275   \n",
       "Day1 Attempts    0.135567  0.534191       1.000000       0.116994   \n",
       "Day2 Attempts    0.024673  0.541275       0.116994       1.000000   \n",
       "Day3 Attempts    0.158063  0.854450       0.228202       0.155356   \n",
       "Weapon4 Crafted  0.134909  0.639330       0.262221       0.078000   \n",
       "Food4 Crafted   -0.085217  0.467692       0.357887       0.510514   \n",
       "Win              0.032281  0.371634       0.250295       0.202375   \n",
       "\n",
       "                 Day3 Attempts  Weapon4 Crafted  Food4 Crafted       Win  \n",
       "Group                 0.158063         0.134909      -0.085217  0.032281  \n",
       "Attempts              0.854450         0.639330       0.467692  0.371634  \n",
       "Day1 Attempts         0.228202         0.262221       0.357887  0.250295  \n",
       "Day2 Attempts         0.155356         0.078000       0.510514  0.202375  \n",
       "Day3 Attempts         1.000000         0.727840       0.210922  0.293559  \n",
       "Weapon4 Crafted       0.727840         1.000000       0.295073  0.168908  \n",
       "Food4 Crafted         0.210922         0.295073       1.000000  0.118191  \n",
       "Win                   0.293559         0.168908       0.118191  1.000000  "
      ]
     },
     "execution_count": 124,
     "metadata": {},
     "output_type": "execute_result"
    }
   ],
   "source": [
    "rows_list = []\n",
    "\n",
    "for user_id in completed_ids:\n",
    "    user_data = df[df['ID'] == user_id]\n",
    "    \n",
    "    # First attempt\n",
    "    first_attempt = user_data.iloc[0,4]\n",
    "    \n",
    "    # Second attempt\n",
    "    second_attempt = user_data.iloc[1,4]\n",
    "    \n",
    "    # Group\n",
    "    user_group = user_data['Group'].unique()[0]\n",
    "    \n",
    "    # Total Attempts\n",
    "    user_total_attempts = user_data.shape[0]\n",
    "    \n",
    "    # Day 1 Attempts \n",
    "    user_attempts1 = user_data[user_data['Day']==1].shape[0]\n",
    "\n",
    "    # Day 2 Attempts\n",
    "    user_attempts2 = user_data[user_data['Day']==2].shape[0]\n",
    "\n",
    "    # Day 3 Attempts\n",
    "    user_attempts3 = user_data[user_data['Day']==3].shape[0]\n",
    "\n",
    "    # Weapon 4 Crafted\n",
    "    num_weapon4 = user_data[user_data['Inputs'].isin(level4_weapons)].shape[0]\n",
    "    \n",
    "    # Food 4 Crafted\n",
    "    num_food4 = user_data[user_data['Inputs'].isin(level4_foods)].shape[0]\n",
    "        \n",
    "    # Winner or Loser\n",
    "    if user_id in winner_ids:\n",
    "        winner = 1\n",
    "    else:\n",
    "        winner = 0\n",
    "\n",
    "    user_dict = {'ID': user_id, 'Group':user_group, 'Attempts':user_total_attempts, \n",
    "                 'Day1 Attempts': user_attempts1, 'Day2 Attempts': user_attempts2,\n",
    "                 'Day3 Attempts': user_attempts3, 'Win':winner,\n",
    "                 'Weapon4 Crafted':num_weapon4, 'Food4 Crafted':num_food4,\n",
    "                 'First Attempt':first_attempt, 'Second Attempt':second_attempt}\n",
    "\n",
    "    rows_list.append(user_dict)\n",
    "    \n",
    "    \n",
    "users_df = pd.DataFrame(rows_list)\n",
    "## Graph correlation !!!\n",
    "\n",
    "first_attempts = users_df['First Attempt'].value_counts()\n",
    "second_attempts = users_df['Second Attempt'].value_counts()\n",
    "\n",
    "features=['Group', 'Attempts', 'Day1 Attempts', 'Day2 Attempts', 'Day3 Attempts', 'Weapon4 Crafted', 'Food4 Crafted', 'Win']\n",
    "users_df[features].corr()"
   ]
  },
  {
   "cell_type": "code",
   "execution_count": 125,
   "metadata": {},
   "outputs": [
    {
     "data": {
      "text/plain": [
       "<AxesSubplot:>"
      ]
     },
     "execution_count": 125,
     "metadata": {},
     "output_type": "execute_result"
    },
    {
     "data": {
      "image/png": "[encoded data removed]",
      "text/plain": [
       "<Figure size 792x648 with 2 Axes>"
      ]
     },
     "metadata": {},
     "output_type": "display_data"
    }
   ],
   "source": [
    "sns.set_theme(style=\"white\")\n",
    "features=['Group', 'Attempts', 'Day1 Attempts', 'Day2 Attempts', 'Day3 Attempts', 'Weapon4 Crafted', 'Food4 Crafted', 'Win']\n",
    "corr = users_df[features].corr()\n",
    "mask = np.triu(np.ones_like(corr, dtype=bool))\n",
    "f, ax = plt.subplots(figsize=(11, 9))\n",
    "cmap = sns.diverging_palette(230, 20, as_cmap=True)\n",
    "sns.heatmap(corr, mask=mask, cmap=cmap, vmax=1, center=0,\n",
    "            square=True, linewidths=.5, cbar_kws={\"shrink\": .5})"
   ]
  },
  {
   "cell_type": "code",
   "execution_count": 126,
   "metadata": {},
   "outputs": [
    {
     "data": {
      "text/plain": [
       "<matplotlib.legend.Legend at 0x7fb5fa753f50>"
      ]
     },
     "execution_count": 126,
     "metadata": {},
     "output_type": "execute_result"
    },
    {
     "data": {
      "image/png": "[encoded data removed]",
      "text/plain": [
       "<Figure size 432x288 with 1 Axes>"
      ]
     },
     "metadata": {},
     "output_type": "display_data"
    }
   ],
   "source": [
    "### Crafting Attempts\n",
    "winner_mean_attempts1 = users_df[users_df['Win'] == 1]['Day1 Attempts'].mean()\n",
    "loser_mean_attempts1 =  users_df[users_df['Win'] == 0]['Day1 Attempts'].mean()\n",
    "\n",
    "winner_mean_attempts2 = users_df[users_df['Win'] == 1]['Day2 Attempts'].mean()\n",
    "loser_mean_attempts2 =  users_df[users_df['Win'] == 0]['Day2 Attempts'].mean()\n",
    "\n",
    "winner_mean_attempts3 = users_df[users_df['Win'] == 1]['Day3 Attempts'].mean()\n",
    "loser_mean_attempts3 =  users_df[users_df['Win'] == 0]['Day3 Attempts'].mean()\n",
    "\n",
    "plt.ticklabel_format(style='plain', axis='x', useOffset=False)\n",
    "plt.gca().xaxis.set_major_locator(mticker.MultipleLocator(1))\n",
    "plt.xlabel(\"Day\")\n",
    "plt.ylabel(\"Mean Number of Items Crafted\")\n",
    "\n",
    "plt.plot([1,2,3], [winner_mean_attempts1, winner_mean_attempts2, winner_mean_attempts3], 'rs-', color=\"green\", markersize=8, label='Winners')\n",
    "plt.plot([1,2,3], [loser_mean_attempts1, loser_mean_attempts2, loser_mean_attempts3], 'rs-', color=\"red\", markersize=8, label='Losers')\n",
    "plt.legend()"
   ]
  },
  {
   "cell_type": "code",
   "execution_count": 86,
   "metadata": {},
   "outputs": [
    {
     "name": "stderr",
     "output_type": "stream",
     "text": [
      "findfont: Font family ['sans-serif'] not found. Falling back to DejaVu Sans.\n",
      "findfont: Font family ['sans-serif'] not found. Falling back to DejaVu Sans.\n"
     ]
    },
    {
     "data": {
      "image/png": "[encoded data removed]",
      "text/plain": [
       "<Figure size 432x288 with 1 Axes>"
      ]
     },
     "metadata": {},
     "output_type": "display_data"
    }
   ],
   "source": [
    "fig, ax = plt.subplots()\n",
    "color_palette_list = ['#00ff00', '#00ffff','#ff0000']\n",
    "plt.rcParams['font.sans-serif'] = 'monospace'\n",
    "plt.rcParams['text.color'] = '#000000'\n",
    "plt.rcParams['axes.labelcolor']= '#000000'\n",
    "plt.rcParams['xtick.color'] = '#909090'\n",
    "plt.rcParams['ytick.color'] = '#909090'\n",
    "plt.rcParams['font.size']=15\n",
    "\n",
    "labels = ['food1, food1, food1 (126)', \n",
    "         'food1, food1 (28)', \n",
    "         'food1 (45)' ]\n",
    "\n",
    "percentages = [126/199, 28/199, 45/199]\n",
    "ax.pie(percentages,  \n",
    "       colors=color_palette_list[0:3], autopct='%1.0f%%', \n",
    "       shadow=False, startangle=0,   \n",
    "       pctdistance=0.6,labeldistance=1)\n",
    "ax.axis('equal')\n",
    "ax.legend(frameon=True, bbox_to_anchor=(0.7,0.6), labels=labels)\n",
    "plt.savefig('first_attempt', bbox_inches='tight')"
   ]
  },
  {
   "cell_type": "code",
   "execution_count": null,
   "metadata": {},
   "outputs": [],
   "source": []
  },
  {
   "cell_type": "markdown",
   "metadata": {},
   "source": [
    "### Hypothesis 1:  Exposure to a strict system before a flexible system will cause participants to be more conservative when learning the new system. This is because they learn the concept that \"levels must always match'', and they try to apply it to unseen objects.\n",
    "\n",
    "* conservativeness = #strict / #inputs\n",
    "* Compute conservativeness for each participant. \n",
    "* Take average for each group. "
   ]
  },
  {
   "cell_type": "code",
   "execution_count": 215,
   "metadata": {},
   "outputs": [],
   "source": [
    "df_completed = df[df['ID'].isin(completed_ids)]\n",
    "\n",
    "df_group1 = df_completed[df_completed['Group'] == 1]\n",
    "df_group2 = df_completed[df_completed['Group'] == 2]\n",
    "group1_ids = df_group1['ID'].unique()\n",
    "group2_ids = df_group2['ID'].unique()\n",
    "\n",
    "df_group1_train = df_group1[df_group1['Day'] != 3]\n",
    "df_group1_test = df_group1[df_group1['Day'] == 3]\n",
    "# remove food attempts from test set\n",
    "df_group1_test = df_group1_test[~df_group1_test['Inputs'].str.contains('food')]\n",
    "\n",
    "df_group2_train = df_group2[df_group2['Day'] != 3]\n",
    "df_group2_test = df_group2[df_group2['Day'] == 3]\n",
    "# remove food attempts from test set\n",
    "df_group2_test = df_group2_test[~df_group2_test['Inputs'].str.contains('food')]"
   ]
  },
  {
   "cell_type": "code",
   "execution_count": 311,
   "metadata": {},
   "outputs": [
    {
     "data": {
      "text/plain": [
       "(0.763036635381036, 0.8851580973298409)"
      ]
     },
     "execution_count": 311,
     "metadata": {},
     "output_type": "execute_result"
    }
   ],
   "source": [
    "# TODO: compute conservativeness for group1_train, group2_test\n",
    "conservative_train = []\n",
    "\n",
    "for group1_id in group1_ids:\n",
    "    # get train data\n",
    "    conservativeness = 0\n",
    "    data_id = df_group1_train[df_group1_train['ID'] == group1_id]\n",
    "    strict_attempts = data_id[data_id['Inputs'].isin(strict_inputs)]\n",
    "    flexible_attempts = data_id[data_id['Inputs'].isin(flexible_inputs)]\n",
    "    if data_id.shape[0] > 0: \n",
    "        conservativeness = strict_attempts.shape[0] / data_id.shape[0]\n",
    "    conservative_train.append(conservativeness)\n",
    "\n",
    "conservative_test = []\n",
    "for group2_id in group2_ids:\n",
    "    # get test data\n",
    "    conservativeness = 0\n",
    "    data_id = df_group2_test[df_group2_test['ID'] == group2_id]\n",
    "    strict_attempts = data_id[data_id['Inputs'].isin(strict_inputs)]\n",
    "    flexible_attempts = data_id[data_id['Inputs'].isin(flexible_inputs)]\n",
    "    if data_id.shape[0] > 0: \n",
    "        conservativeness = strict_attempts.shape[0] / data_id.shape[0]\n",
    "    conservative_test.append(conservativeness)\n",
    "\n",
    "\n",
    "#plt.plot(conservative_train, np.zeros(len(conservative_train)), 's', markersize=1)\n",
    "#plt.plot(conservative_test, np.zeros(len(conservative_test)), 's', markersize=1)\n",
    "np.mean(conservative_train), np.mean(conservative_test)"
   ]
  },
  {
   "cell_type": "code",
   "execution_count": 322,
   "metadata": {},
   "outputs": [
    {
     "data": {
      "text/plain": [
       "0.028803994015962887"
      ]
     },
     "execution_count": 322,
     "metadata": {},
     "output_type": "execute_result"
    }
   ],
   "source": [
    "#help(stats.ttest_1samp)\n",
    "\n",
    "ttest, p_value = stats.ttest_1samp(conservative_train, 0.8851580973298409)\n",
    "p_value"
   ]
  },
  {
   "cell_type": "code",
   "execution_count": 224,
   "metadata": {},
   "outputs": [],
   "source": [
    "# drop attempts like food3,food3,food3 where sum exceeds possible levels\n",
    "# drop attempts like food1, weapon2 where item types do not match\n",
    "\n",
    "good_inputs = ['food1,food1',\n",
    "              'food1,food1,food1',\n",
    "              'food1,food2',\n",
    "              'food2,food1',\n",
    "              'food2,food2',\n",
    "              'food1,food3',\n",
    "              'food3,food1',\n",
    "              'food1,food2,food1',\n",
    "              'food2,food1,food1',\n",
    "              'food1,food1,food2',\n",
    "              'weapon1,weapon1',\n",
    "              'weapon1,weapon2',\n",
    "              'weapon2,weapon1',\n",
    "              'weapon2,weapon2',\n",
    "              'weapon1,weapon3',\n",
    "              'weapon3,weapon1',\n",
    "              'weapon1,weapon1,weapon1',\n",
    "              'weapon1,weapon2,weapon1',\n",
    "              'weapon2,weapon1,weapon1',\n",
    "              'weapon1,weapon1,weapon2']\n",
    "\n",
    "strict_inputs = ['food1,food1',\n",
    "              'food1,food1,food1',\n",
    "              'food2,food2',\n",
    "              'weapon1,weapon1',\n",
    "              'weapon2,weapon2',\n",
    "              'weapon1,weapon1,weapon1']\n",
    "\n",
    "flexible_inputs = ['food1,food2',\n",
    "              'food2,food1',\n",
    "              'food1,food3',\n",
    "              'food3,food1',\n",
    "              'food1,food2,food1',\n",
    "              'food2,food1,food1',\n",
    "              'food1,food1,food2',\n",
    "              'weapon1,weapon2',\n",
    "              'weapon2,weapon1',\n",
    "              'weapon1,weapon3',\n",
    "              'weapon3,weapon1',\n",
    "              'weapon1,weapon2,weapon1',\n",
    "              'weapon2,weapon1,weapon1',\n",
    "              'weapon1,weapon1,weapon2']\n",
    "\n",
    "\n",
    "df = df[df.Inputs.isin(good_inputs)] "
   ]
  },
  {
   "cell_type": "markdown",
   "metadata": {},
   "source": [
    "### Hypothesis 2: Exposure to a flexible system before a strict system causes participants to make more mistakes.  This is because their concept definition does not involve an equality of levels.\n",
    "\n",
    "* For each participant, compute #failure / # total attempts"
   ]
  },
  {
   "cell_type": "code",
   "execution_count": 346,
   "metadata": {},
   "outputs": [
    {
     "data": {
      "text/plain": [
       "(0.17213947758590614, 0.08208256201157035)"
      ]
     },
     "execution_count": 346,
     "metadata": {},
     "output_type": "execute_result"
    }
   ],
   "source": [
    "df_group2_train['Inputs'].value_counts() # learning strict \n",
    "df_group1_test['Inputs'].value_counts() # learning strict, conditioned on flexible\n",
    "\n",
    "# TODO: compute fail ratio for group1_train, group2_test\n",
    "conservative_train = []\n",
    "\n",
    "for group2_id in group2_ids:\n",
    "    conservativeness = 0\n",
    "    data_id = df_group2_train[df_group2_train['ID'] == group2_id]\n",
    "    strict_attempts = data_id[data_id['Inputs'].isin(strict_inputs)]\n",
    "    flexible_attempts = data_id[data_id['Inputs'].isin(flexible_inputs)]\n",
    "    if data_id.shape[0] > 0: \n",
    "        conservativeness = strict_attempts.shape[0] / data_id.shape[0]\n",
    "    conservative_train.append(conservativeness)\n",
    "\n",
    "fail_test = []\n",
    "for group1_id in group1_ids:\n",
    "    fail_ratio = 0\n",
    "    data_id = df_group1_test[df_group1_test['ID'] == group1_id]\n",
    "    num_fails = data_id[data_id['Success'] == 0].shape[0]\n",
    "    if data_id.shape[0] > 0:\n",
    "        fail_ratio = num_fails / data_id.shape[0]\n",
    "    fail_test.append(fail_ratio)\n",
    "\n",
    "np.mean(fail_train), np.mean(fail_test)"
   ]
  }
 ],
 "metadata": {
  "kernelspec": {
   "display_name": "Python 3",
   "language": "python",
   "name": "python3"
  },
  "language_info": {
   "codemirror_mode": {
    "name": "ipython",
    "version": 3
   },
   "file_extension": ".py",
   "mimetype": "text/x-python",
   "name": "python",
   "nbconvert_exporter": "python",
   "pygments_lexer": "ipython3",
   "version": "3.7.5"
  }
 },
 "nbformat": 4,
 "nbformat_minor": 4
}
